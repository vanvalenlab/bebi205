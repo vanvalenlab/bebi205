{
 "cells": [
  {
   "cell_type": "markdown",
   "metadata": {
    "id": "ri3b4fbfb0rD"
   },
   "source": [
    "# TensorFlow Data"
   ]
  },
  {
   "cell_type": "markdown",
   "metadata": {
    "id": "XMVW78Nxk2qy"
   },
   "source": [
    "We need to pip install `tensorflow_addons` which has useful image transformation functions that are compatible with the tensorflow backend."
   ]
  },
  {
   "cell_type": "code",
   "execution_count": 66,
   "metadata": {
    "colab": {
     "base_uri": "https://localhost:8080/"
    },
    "executionInfo": {
     "elapsed": 3214,
     "status": "ok",
     "timestamp": 1613432992139,
     "user": {
      "displayName": "Morgan Schwartz",
      "photoUrl": "",
      "userId": "07722029691475839324"
     },
     "user_tz": 480
    },
    "id": "l4QaHq6Uk0xc",
    "outputId": "01c0ab04-cf48-4013-fe2e-4cc56a2b7290"
   },
   "outputs": [
    {
     "name": "stdout",
     "output_type": "stream",
     "text": [
      "Requirement already satisfied: tensorflow-addons in /usr/local/lib/python3.6/dist-packages (0.12.1)\n",
      "Requirement already satisfied: typeguard>=2.7 in /usr/local/lib/python3.6/dist-packages (from tensorflow-addons) (2.7.1)\n"
     ]
    }
   ],
   "source": [
    "!pip install tensorflow-addons"
   ]
  },
  {
   "cell_type": "code",
   "execution_count": 67,
   "metadata": {
    "executionInfo": {
     "elapsed": 2883,
     "status": "ok",
     "timestamp": 1613432992141,
     "user": {
      "displayName": "Morgan Schwartz",
      "photoUrl": "",
      "userId": "07722029691475839324"
     },
     "user_tz": 480
    },
    "id": "tg5T3iZ4cIYf"
   },
   "outputs": [],
   "source": [
    "import tensorflow as tf\n",
    "import tensorflow_addons as tfa\n",
    "import numpy as np\n",
    "import matplotlib.pyplot as plt"
   ]
  },
  {
   "cell_type": "markdown",
   "metadata": {
    "id": "ietShzLmcMKH"
   },
   "source": [
    "Any machine learning model is composed of two primary components: model design and training data. While model design and architecture receive significant attention, any model is only as good as the data which it was trained on. We'll discuss how to prepare labeled training data in more detail later. Here we will focus on the most efficient way to wrangle your training data and feed it into a model. TensorFlow models expect to receive data wrapped in an iterator, such that if you call `next(data)` the output is a single data point and its corresponding label."
   ]
  },
  {
   "cell_type": "markdown",
   "metadata": {
    "id": "6DcPvM2TcLSH"
   },
   "source": [
    "TensorFlow has introduced the `tf.data` API to serve as an end-to-end pipeline for handling data in the context of machine learning. The core of the `tf.data` API is the `tf.data.Dataset` object. We will download the MNIST dataset to use as an example for this tutorial."
   ]
  },
  {
   "cell_type": "code",
   "execution_count": 68,
   "metadata": {
    "executionInfo": {
     "elapsed": 849,
     "status": "ok",
     "timestamp": 1613432993552,
     "user": {
      "displayName": "Morgan Schwartz",
      "photoUrl": "",
      "userId": "07722029691475839324"
     },
     "user_tz": 480
    },
    "id": "Ot1T2s_vdWEg"
   },
   "outputs": [],
   "source": [
    "train, test = tf.keras.datasets.mnist.load_data()"
   ]
  },
  {
   "cell_type": "code",
   "execution_count": 69,
   "metadata": {
    "colab": {
     "base_uri": "https://localhost:8080/"
    },
    "executionInfo": {
     "elapsed": 523,
     "status": "ok",
     "timestamp": 1613432995031,
     "user": {
      "displayName": "Morgan Schwartz",
      "photoUrl": "",
      "userId": "07722029691475839324"
     },
     "user_tz": 480
    },
    "id": "JvWtC1_5daJu",
    "outputId": "a1b67033-a533-4e44-9a94-06bb114adc80"
   },
   "outputs": [
    {
     "data": {
      "text/plain": [
       "((60000, 28, 28), (60000,))"
      ]
     },
     "execution_count": 69,
     "metadata": {
      "tags": []
     },
     "output_type": "execute_result"
    }
   ],
   "source": [
    "X, y = train\n",
    "X.shape, y.shape"
   ]
  },
  {
   "cell_type": "code",
   "execution_count": 70,
   "metadata": {
    "colab": {
     "base_uri": "https://localhost:8080/",
     "height": 298
    },
    "executionInfo": {
     "elapsed": 700,
     "status": "ok",
     "timestamp": 1613432996458,
     "user": {
      "displayName": "Morgan Schwartz",
      "photoUrl": "",
      "userId": "07722029691475839324"
     },
     "user_tz": 480
    },
    "id": "zzaIEr6TdkY0",
    "outputId": "89ef0b46-ad92-4c76-c169-4fa54fbefaab"
   },
   "outputs": [
    {
     "data": {
      "text/plain": [
       "Text(0.5, 1.0, '8')"
      ]
     },
     "execution_count": 70,
     "metadata": {
      "tags": []
     },
     "output_type": "execute_result"
    },
    {
     "data": {
      "image/png": "[encoded data removed]",
      "text/plain": [
       "<Figure size 432x288 with 1 Axes>"
      ]
     },
     "metadata": {
      "needs_background": "light",
      "tags": []
     },
     "output_type": "display_data"
    }
   ],
   "source": [
    "i = np.random.randint(X.shape[0])\n",
    "fig,ax = plt.subplots()\n",
    "ax.imshow(X[i])\n",
    "ax.set_title(y[i])"
   ]
  },
  {
   "cell_type": "markdown",
   "metadata": {
    "id": "nMc7ZGsldUKe"
   },
   "source": [
    "## Extract\n",
    "\n",
    "This step addresses the task of reading your dataset and passing it to the Dataset object. There are six different input methods available which are detailed in the [docs](https://www.tensorflow.org/guide/data#reading_input_data). When your dataset can be fully loaded into memory, it can be converted to a tensor and passed directly to the object."
   ]
  },
  {
   "cell_type": "code",
   "execution_count": 72,
   "metadata": {
    "colab": {
     "base_uri": "https://localhost:8080/"
    },
    "executionInfo": {
     "elapsed": 616,
     "status": "ok",
     "timestamp": 1613433000003,
     "user": {
      "displayName": "Morgan Schwartz",
      "photoUrl": "",
      "userId": "07722029691475839324"
     },
     "user_tz": 480
    },
    "id": "uVFmLytCePqk",
    "outputId": "ba886bb3-db39-4c53-b573-752d4245aa48"
   },
   "outputs": [
    {
     "data": {
      "text/plain": [
       "<TensorSliceDataset shapes: ((28, 28), ()), types: (tf.uint8, tf.uint8)>"
      ]
     },
     "execution_count": 72,
     "metadata": {
      "tags": []
     },
     "output_type": "execute_result"
    }
   ],
   "source": [
    "dataset = tf.data.Dataset.from_tensor_slices((X,y))\n",
    "dataset"
   ]
  },
  {
   "cell_type": "code",
   "execution_count": 74,
   "metadata": {
    "colab": {
     "base_uri": "https://localhost:8080/",
     "height": 281
    },
    "executionInfo": {
     "elapsed": 784,
     "status": "ok",
     "timestamp": 1613433014549,
     "user": {
      "displayName": "Morgan Schwartz",
      "photoUrl": "",
      "userId": "07722029691475839324"
     },
     "user_tz": 480
    },
    "id": "OmMOovTwhW03",
    "outputId": "78184a9e-1609-4fd5-8e70-6900d92cf20d"
   },
   "outputs": [
    {
     "data": {
      "image/png": "[encoded data removed]",
      "text/plain": [
       "<Figure size 432x288 with 1 Axes>"
      ]
     },
     "metadata": {
      "needs_background": "light",
      "tags": []
     },
     "output_type": "display_data"
    }
   ],
   "source": [
    "for im,label in dataset.take(1):\n",
    "    fig,ax = plt.subplots()\n",
    "    ax.imshow(im)\n",
    "    ax.set_title(label.numpy())"
   ]
  },
  {
   "cell_type": "markdown",
   "metadata": {
    "id": "sF9qGBsAew57"
   },
   "source": [
    "## Transform\n",
    "\n",
    "At this stage we can perform any transformations to our data prior to training. This can be as simple as shuffling the dataset prior to retrieving batches or applying random rotations for data augmentation."
   ]
  },
  {
   "cell_type": "markdown",
   "metadata": {
    "id": "7kOkG0UxckrK"
   },
   "source": [
    "### Shuffle\n",
    "\n",
    "The first step prior to passing data to a model for training is to shuffle the data such that the order in which the model receives the data is random. The function `dataset.shuffle` requires the arguement `buffer_size` which determines how many elements in the dataset are considered during random selection of each point. For perfect shuffling, `buffer_size` should be the greater than or equal to the size of the dataset. However, this carries a significant memory burden so typiclly `buffer_size` is a fraction of the dataset size. "
   ]
  },
  {
   "cell_type": "code",
   "execution_count": 75,
   "metadata": {
    "executionInfo": {
     "elapsed": 517,
     "status": "ok",
     "timestamp": 1613433023656,
     "user": {
      "displayName": "Morgan Schwartz",
      "photoUrl": "",
      "userId": "07722029691475839324"
     },
     "user_tz": 480
    },
    "id": "K-osawTteFSQ"
   },
   "outputs": [],
   "source": [
    "dataset = dataset.shuffle(5000,seed=123,reshuffle_each_iteration=True)"
   ]
  },
  {
   "cell_type": "markdown",
   "metadata": {
    "id": "bwxk-cs6elXr"
   },
   "source": [
    "### Augment\n",
    "\n",
    "Finally, we augment the dataset by performing random transformations to each batch of samples. In order to to this, we revisit the transformation matrices discussed previously. When we initially discussed transformations, we used 2x2 matrices to rotate, reflect, etc a 2D image. For dataset augmentation, we also want to translate the image such that it is shifted in 2D space away from its original center point. In order to do this, we will use a 3x3 matrix and consider each point $P(x,y) = \\begin{bmatrix}x&y&1\\end{bmatrix}$.\n",
    "\n",
    "In order to translate point $P(x,y)$ by $(\\delta x, \\delta y)$, we multiply P by the translation matrix\n",
    "\n",
    "$$\n",
    "\\begin{bmatrix}x & y & 1\\end{bmatrix} \\times\n",
    "\\begin{bmatrix}\n",
    "    1 & 0 & 0\\\\\n",
    "    0 & 1 & 0\\\\\n",
    "    \\delta x & \\delta y & 1\n",
    "\\end{bmatrix}\n",
    "=\n",
    "\\begin{bmatrix}x+\\delta x & y+\\delta y & 1\\end{bmatrix}\n",
    "$$"
   ]
  },
  {
   "cell_type": "markdown",
   "metadata": {
    "id": "I00IIng_g32l"
   },
   "source": [
    "In order to apply random transformations to the dataset, we can use the `dataset.map` function which will apply any python function to each element in the dataset. First we will write a function to calculate a random transformation matrix that scales the data within the limits of a specified zoom range."
   ]
  },
  {
   "cell_type": "code",
   "execution_count": 76,
   "metadata": {
    "executionInfo": {
     "elapsed": 443,
     "status": "ok",
     "timestamp": 1613433027614,
     "user": {
      "displayName": "Morgan Schwartz",
      "photoUrl": "",
      "userId": "07722029691475839324"
     },
     "user_tz": 480
    },
    "id": "pWPbLeSijHN0"
   },
   "outputs": [],
   "source": [
    "def compute_random_zoom(zoom_min, zoom_max):\n",
    "    # Get random zoom values for x and y\n",
    "    zx = np.random.uniform(low=zoom_min, high=zoom_max, size=[1])[0]\n",
    "    zy = np.random.uniform(low=zoom_min, high=zoom_max, size=[1])[0]\n",
    "\n",
    "    # Build the matrix\n",
    "    matrix = [[zx,0,0],[0,zy,0],[0,0,1]]\n",
    "    return np.array(matrix)"
   ]
  },
  {
   "cell_type": "markdown",
   "metadata": {},
   "source": [
    "This function relies on numpy to build the random transformation matrix. It could instead be written with tensorflow backend functions which will be faster than the respective numpy functions."
   ]
  },
  {
   "cell_type": "code",
   "execution_count": 112,
   "metadata": {
    "colab": {
     "base_uri": "https://localhost:8080/"
    },
    "executionInfo": {
     "elapsed": 378,
     "status": "ok",
     "timestamp": 1613433163484,
     "user": {
      "displayName": "Morgan Schwartz",
      "photoUrl": "",
      "userId": "07722029691475839324"
     },
     "user_tz": 480
    },
    "id": "SdJfPRxlnJPR",
    "outputId": "30028f76-76a7-494d-d38f-de35d66eb04b"
   },
   "outputs": [
    {
     "data": {
      "text/plain": [
       "array([[1.80131298, 0.        , 0.        ],\n",
       "       [0.        , 1.67630283, 0.        ],\n",
       "       [0.        , 0.        , 1.        ]])"
      ]
     },
     "execution_count": 112,
     "metadata": {
      "tags": []
     },
     "output_type": "execute_result"
    }
   ],
   "source": [
    "m = compute_random_zoom(0.5, 2)\n",
    "m"
   ]
  },
  {
   "cell_type": "markdown",
   "metadata": {
    "id": "DXznUKrHonHc"
   },
   "source": [
    "To apply the transformation to an image, we will use the tensorflow_addon function `tfa.image.transform`. This function expects the transformation matrix to be a list of length 8. The function assumes that the ninth value in the matrix (corresponding to the bottom right corner) is always 1. Additionally, the function supports various `fill_modes` which sets the value of points that fall outside of the boundaries of the input."
   ]
  },
  {
   "cell_type": "code",
   "execution_count": 113,
   "metadata": {
    "colab": {
     "base_uri": "https://localhost:8080/"
    },
    "executionInfo": {
     "elapsed": 408,
     "status": "ok",
     "timestamp": 1613433165673,
     "user": {
      "displayName": "Morgan Schwartz",
      "photoUrl": "",
      "userId": "07722029691475839324"
     },
     "user_tz": 480
    },
    "id": "0cZxSvyApAhA",
    "outputId": "c94ec617-dac5-42b9-b1b5-6a98861981c5"
   },
   "outputs": [
    {
     "data": {
      "text/plain": [
       "array([1.80131298, 0.        , 0.        , 0.        , 1.67630283,\n",
       "       0.        , 0.        , 0.        ])"
      ]
     },
     "execution_count": 113,
     "metadata": {
      "tags": []
     },
     "output_type": "execute_result"
    }
   ],
   "source": [
    "m = m.flatten()[0:8]\n",
    "m"
   ]
  },
  {
   "cell_type": "code",
   "execution_count": 114,
   "metadata": {
    "colab": {
     "base_uri": "https://localhost:8080/",
     "height": 216
    },
    "executionInfo": {
     "elapsed": 815,
     "status": "ok",
     "timestamp": 1613433167719,
     "user": {
      "displayName": "Morgan Schwartz",
      "photoUrl": "",
      "userId": "07722029691475839324"
     },
     "user_tz": 480
    },
    "id": "t58K8wWDlHXu",
    "outputId": "7b2c02ff-ff54-4c35-d86f-dab2d6ca7e2d"
   },
   "outputs": [
    {
     "data": {
      "image/png": "[encoded data removed]",
      "text/plain": [
       "<Figure size 432x288 with 2 Axes>"
      ]
     },
     "metadata": {
      "needs_background": "light",
      "tags": []
     },
     "output_type": "display_data"
    }
   ],
   "source": [
    "for im,label in dataset.take(1):\n",
    "    fig,ax = plt.subplots(1,2)\n",
    "    ax[0].imshow(im)\n",
    "    ax[0].set_title('Raw')\n",
    "    ax[1].set_title('Transformed')\n",
    "\n",
    "    imt = tfa.image.transform(im, m, fill_mode='constant', fill_value=0)\n",
    "    ax[1].imshow(imt)"
   ]
  },
  {
   "cell_type": "markdown",
   "metadata": {
    "id": "gKNoYK55rDeL"
   },
   "source": [
    "We are now ready to write an augmentation function that can be fed into `dataset.map`. The inputs for our new function should match the output of `dataset.take(1)` which in this case is a tuple with an X and y value."
   ]
  },
  {
   "cell_type": "code",
   "execution_count": 102,
   "metadata": {
    "executionInfo": {
     "elapsed": 448,
     "status": "ok",
     "timestamp": 1613433100129,
     "user": {
      "displayName": "Morgan Schwartz",
      "photoUrl": "",
      "userId": "07722029691475839324"
     },
     "user_tz": 480
    },
    "id": "JdoX9M-frafi"
   },
   "outputs": [],
   "source": [
    "def augment(*args):\n",
    "    im = args[0]\n",
    "    label = args[1]\n",
    "\n",
    "    m = compute_random_zoom(0.5,2)\n",
    "    m = m.flatten()[0:8]\n",
    "\n",
    "    imt = tfa.image.transform(im, m, fill_mode='constant', fill_value=0)\n",
    "\n",
    "    return imt,label"
   ]
  },
  {
   "cell_type": "code",
   "execution_count": 103,
   "metadata": {
    "executionInfo": {
     "elapsed": 484,
     "status": "ok",
     "timestamp": 1613433101447,
     "user": {
      "displayName": "Morgan Schwartz",
      "photoUrl": "",
      "userId": "07722029691475839324"
     },
     "user_tz": 480
    },
    "id": "V3F6pJpXruJw"
   },
   "outputs": [],
   "source": [
    "aug_dataset = dataset.map(augment)"
   ]
  },
  {
   "cell_type": "code",
   "execution_count": 106,
   "metadata": {
    "colab": {
     "base_uri": "https://localhost:8080/",
     "height": 809
    },
    "executionInfo": {
     "elapsed": 848,
     "status": "ok",
     "timestamp": 1613433114157,
     "user": {
      "displayName": "Morgan Schwartz",
      "photoUrl": "",
      "userId": "07722029691475839324"
     },
     "user_tz": 480
    },
    "id": "q5vr2ExjryFK",
    "outputId": "769913b2-35c8-415a-9694-d633e6e8a15c"
   },
   "outputs": [
    {
     "data": {
      "image/png": "[encoded data removed]",
      "text/plain": [
       "<Figure size 432x288 with 1 Axes>"
      ]
     },
     "metadata": {
      "needs_background": "light",
      "tags": []
     },
     "output_type": "display_data"
    },
    {
     "data": {
      "image/png": "[encoded data removed]",
      "text/plain": [
       "<Figure size 432x288 with 1 Axes>"
      ]
     },
     "metadata": {
      "needs_background": "light",
      "tags": []
     },
     "output_type": "display_data"
    },
    {
     "data": {
      "image/png": "[encoded data removed]",
      "text/plain": [
       "<Figure size 432x288 with 1 Axes>"
      ]
     },
     "metadata": {
      "needs_background": "light",
      "tags": []
     },
     "output_type": "display_data"
    }
   ],
   "source": [
    "for im,label in aug_dataset.take(3):\n",
    "    fig,ax = plt.subplots()\n",
    "    ax.imshow(im)\n",
    "    ax.set_title(label.numpy())"
   ]
  },
  {
   "cell_type": "markdown",
   "metadata": {
    "id": "GZvqcO34eM4l"
   },
   "source": [
    "Next, the dataset is broken into batches for model training. The batch size determines how many datapoints are fed through a model before the model is updated."
   ]
  },
  {
   "cell_type": "code",
   "execution_count": null,
   "metadata": {
    "id": "cBATu01MeiRz"
   },
   "outputs": [],
   "source": [
    "dataset = dataset.batch(20)"
   ]
  },
  {
   "cell_type": "markdown",
   "metadata": {
    "id": "pp1-Z6XQHq7O"
   },
   "source": [
    "# Exercise\n",
    "Try expanding the `augment` function to include at least one additional transformation such as rotation. Remember that you use the dot product of two matrices to combine two transformations into one."
   ]
  }
 ],
 "metadata": {
  "colab": {
   "authorship_tag": "ABX9TyNKPxn5uZALL1kH5rsF5BHf",
   "collapsed_sections": [],
   "name": "tf-dataset.ipynb",
   "provenance": []
  },
  "kernelspec": {
   "display_name": "Python [default]",
   "language": "python",
   "name": "python3"
  },
  "language_info": {
   "codemirror_mode": {
    "name": "ipython",
    "version": 3
   },
   "file_extension": ".py",
   "mimetype": "text/x-python",
   "name": "python",
   "nbconvert_exporter": "python",
   "pygments_lexer": "ipython3",
   "version": "3.7.2"
  }
 },
 "nbformat": 4,
 "nbformat_minor": 2
}
