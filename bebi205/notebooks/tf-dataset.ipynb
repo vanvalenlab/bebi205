{
 "cells": [
  {
   "cell_type": "markdown",
   "metadata": {
    "id": "ri3b4fbfb0rD"
   },
   "source": [
    "# TensorFlow Data\n",
    "\n",
    "Some code cells will be marked with \n",
    "```\n",
    "##########################\n",
    "######## To Do ###########\n",
    "##########################\n",
    "```\n",
    "\n",
    "This indicates that you are being asked to write a piece of code to complete the notebook."
   ]
  },
  {
   "cell_type": "markdown",
   "metadata": {
    "id": "XMVW78Nxk2qy"
   },
   "source": [
    "We need to pip install `tensorflow_addons` which has useful image transformation functions that are compatible with the tensorflow backend."
   ]
  },
  {
   "cell_type": "code",
   "execution_count": 1,
   "metadata": {
    "colab": {
     "base_uri": "https://localhost:8080/"
    },
    "id": "l4QaHq6Uk0xc",
    "outputId": "4b3ec1ad-7c2c-4d36-a654-3d63bde866bf"
   },
   "outputs": [
    {
     "name": "stdout",
     "output_type": "stream",
     "text": [
      "Requirement already satisfied: tensorflow-addons in /usr/local/lib/python3.7/dist-packages (0.12.1)\n",
      "Requirement already satisfied: typeguard>=2.7 in /usr/local/lib/python3.7/dist-packages (from tensorflow-addons) (2.7.1)\n"
     ]
    }
   ],
   "source": [
    "!pip install tensorflow-addons"
   ]
  },
  {
   "cell_type": "code",
   "execution_count": 2,
   "metadata": {
    "id": "tg5T3iZ4cIYf"
   },
   "outputs": [],
   "source": [
    "import tensorflow as tf\n",
    "import tensorflow_addons as tfa\n",
    "import numpy as np\n",
    "import matplotlib.pyplot as plt\n",
    "import pandas as pd"
   ]
  },
  {
   "cell_type": "markdown",
   "metadata": {
    "id": "ietShzLmcMKH"
   },
   "source": [
    "Any machine learning model is composed of two primary components: model design and training data. While model design and architecture receive significant attention, any model is only as good as the data which it was trained on. We'll discuss how to prepare labeled training data in more detail later. Here we will focus on the most efficient way to wrangle your training data and feed it into a model. TensorFlow models expect to receive data wrapped in an iterator, such that if you call `next(data)` the output is a single data point and its corresponding label."
   ]
  },
  {
   "cell_type": "markdown",
   "metadata": {
    "id": "CR1WJIhYqboo"
   },
   "source": [
    "## Image Datasets"
   ]
  },
  {
   "cell_type": "markdown",
   "metadata": {
    "id": "6DcPvM2TcLSH"
   },
   "source": [
    "TensorFlow has introduced the `tf.data` API to serve as an end-to-end pipeline for handling data in the context of machine learning. The core of the `tf.data` API is the `tf.data.Dataset` object. We will download the MNIST dataset to use as an example of image data for this tutorial."
   ]
  },
  {
   "cell_type": "code",
   "execution_count": 3,
   "metadata": {
    "id": "Ot1T2s_vdWEg"
   },
   "outputs": [],
   "source": [
    "train, test = tf.keras.datasets.mnist.load_data()"
   ]
  },
  {
   "cell_type": "code",
   "execution_count": 4,
   "metadata": {
    "colab": {
     "base_uri": "https://localhost:8080/"
    },
    "id": "JvWtC1_5daJu",
    "outputId": "cc7e2217-c2cd-41c7-de7c-6ab4289f0509"
   },
   "outputs": [
    {
     "data": {
      "text/plain": [
       "((60000, 28, 28), (60000,))"
      ]
     },
     "execution_count": 4,
     "metadata": {
      "tags": []
     },
     "output_type": "execute_result"
    }
   ],
   "source": [
    "X, y = train\n",
    "X.shape, y.shape"
   ]
  },
  {
   "cell_type": "code",
   "execution_count": 5,
   "metadata": {
    "colab": {
     "base_uri": "https://localhost:8080/",
     "height": 298
    },
    "id": "zzaIEr6TdkY0",
    "outputId": "53fa7fdd-f1f9-4036-aa4f-b1ba314fac8d"
   },
   "outputs": [
    {
     "data": {
      "text/plain": [
       "Text(0.5, 1.0, '0')"
      ]
     },
     "execution_count": 5,
     "metadata": {
      "tags": []
     },
     "output_type": "execute_result"
    },
    {
     "data": {
      "image/png": "[encoded data removed]",
      "text/plain": [
       "<Figure size 432x288 with 1 Axes>"
      ]
     },
     "metadata": {
      "needs_background": "light",
      "tags": []
     },
     "output_type": "display_data"
    }
   ],
   "source": [
    "i = np.random.randint(X.shape[0])\n",
    "fig,ax = plt.subplots()\n",
    "ax.imshow(X[i])\n",
    "ax.set_title(y[i])"
   ]
  },
  {
   "cell_type": "markdown",
   "metadata": {
    "id": "nMc7ZGsldUKe"
   },
   "source": [
    "### Extract\n",
    "This step addresses the task of reading your dataset and passing it to the Dataset object. There are six different input methods available which are detailed in the [docs](https://www.tensorflow.org/guide/data#reading_input_data). When your dataset can be fully loaded into memory, it can be converted to a tensor and passed directly to the object."
   ]
  },
  {
   "cell_type": "code",
   "execution_count": 6,
   "metadata": {
    "colab": {
     "base_uri": "https://localhost:8080/"
    },
    "id": "uVFmLytCePqk",
    "outputId": "51715472-5663-4762-dc12-647b4d28f7b8"
   },
   "outputs": [
    {
     "data": {
      "text/plain": [
       "<TensorSliceDataset shapes: ((28, 28), ()), types: (tf.uint8, tf.uint8)>"
      ]
     },
     "execution_count": 6,
     "metadata": {
      "tags": []
     },
     "output_type": "execute_result"
    }
   ],
   "source": [
    "dataset = tf.data.Dataset.from_tensor_slices((X,y))\n",
    "dataset"
   ]
  },
  {
   "cell_type": "code",
   "execution_count": 7,
   "metadata": {
    "colab": {
     "base_uri": "https://localhost:8080/",
     "height": 281
    },
    "id": "OmMOovTwhW03",
    "outputId": "81c8a226-742c-4643-bb6b-dadc2dc00670"
   },
   "outputs": [
    {
     "data": {
      "image/png": "[encoded data removed]",
      "text/plain": [
       "<Figure size 432x288 with 1 Axes>"
      ]
     },
     "metadata": {
      "needs_background": "light",
      "tags": []
     },
     "output_type": "display_data"
    }
   ],
   "source": [
    "for im,label in dataset.take(1):\n",
    "    fig,ax = plt.subplots()\n",
    "    ax.imshow(im)\n",
    "    ax.set_title(label.numpy())"
   ]
  },
  {
   "cell_type": "markdown",
   "metadata": {
    "id": "sF9qGBsAew57"
   },
   "source": [
    "### Transform\n",
    "At this stage we can perform any transformations to our data prior to training. This can be as simple as shuffling the dataset prior to retrieving batches or applying random rotations for data augmentation."
   ]
  },
  {
   "cell_type": "markdown",
   "metadata": {
    "id": "7kOkG0UxckrK"
   },
   "source": [
    "#### Shuffle\n",
    "\n",
    "The first step prior to passing data to a model for training is to shuffle the data such that the order in which the model receives the data is random. The function `dataset.shuffle` requires the arguement `buffer_size` which determines how many elements in the dataset are considered during random selection of each point. For perfect shuffling, `buffer_size` should be the greater than or equal to the size of the dataset. However, this carries a significant memory burden so typiclly `buffer_size` is a fraction of the dataset size. "
   ]
  },
  {
   "cell_type": "code",
   "execution_count": 8,
   "metadata": {
    "id": "K-osawTteFSQ"
   },
   "outputs": [],
   "source": [
    "dataset = dataset.shuffle(5000,seed=123,reshuffle_each_iteration=True)"
   ]
  },
  {
   "cell_type": "markdown",
   "metadata": {
    "id": "bwxk-cs6elXr"
   },
   "source": [
    "#### Augment\n",
    "\n",
    "Finally, we augment the dataset by performing random transformations to each batch of samples. In order to to this, we revisit the transformation matrices discussed previously. When we initially discussed transformations, we used 2x2 matrices to rotate, reflect, etc a 2D image. For dataset augmentation, we also want to translate the image such that it is shifted in 2D space away from its original center point. In order to do this, we will use a 3x3 matrix and consider each point $P(x,y) = \\begin{bmatrix}x&y&1\\end{bmatrix}$."
   ]
  },
  {
   "cell_type": "markdown",
   "metadata": {},
   "source": [
    "In order to translate point $P(x,y)$ by $(\\delta x, \\delta y)$, we multiply P by the translation matrix\n",
    "$\\begin{bmatrix}x & y & 1\\end{bmatrix} \\times\n",
    "\\begin{bmatrix}\n",
    "    1 & 0 & 0\\\\\n",
    "    0 & 1 & 0\\\\\n",
    "    \\delta x & \\delta y & 1\n",
    "\\end{bmatrix} = \n",
    "\\begin{bmatrix}x+\\delta x & y+\\delta y & 1\\end{bmatrix}$"
   ]
  },
  {
   "cell_type": "markdown",
   "metadata": {
    "id": "I00IIng_g32l"
   },
   "source": [
    "In order to apply random transformations to the dataset, we can use the `dataset.map` function which will apply any python function to each element in the dataset. First we will write a function to calculate a random transformation matrix that scales the data within the limits of a specified zoom range."
   ]
  },
  {
   "cell_type": "code",
   "execution_count": 9,
   "metadata": {
    "colab": {
     "base_uri": "https://localhost:8080/"
    },
    "id": "pWPbLeSijHN0",
    "outputId": "26cb2b74-7f70-4916-d55d-143a8f2caf3d"
   },
   "outputs": [
    {
     "data": {
      "text/plain": [
       "array([[0.59692916, 0.        , 0.        ],\n",
       "       [0.        , 0.54342923, 0.        ],\n",
       "       [0.        , 0.        , 1.        ]])"
      ]
     },
     "execution_count": 9,
     "metadata": {
      "tags": []
     },
     "output_type": "execute_result"
    }
   ],
   "source": [
    "def compute_random_zoom(zoom_min, zoom_max):\n",
    "    # Get random zoom values for x and y\n",
    "    zx = np.random.uniform(low=zoom_min, high=zoom_max, size=[1])[0]\n",
    "    zy = np.random.uniform(low=zoom_min, high=zoom_max, size=[1])[0]\n",
    "\n",
    "    # Build the matrix\n",
    "    matrix = [[zx,0,0],[0,zy,0],[0,0,1]]\n",
    "    return np.array(matrix)\n",
    "\n",
    "m = compute_random_zoom(0.5, 2)\n",
    "m"
   ]
  },
  {
   "cell_type": "markdown",
   "metadata": {
    "id": "DXznUKrHonHc"
   },
   "source": [
    "To apply the transformation to an image, we will use the tensorflow_addon function `tfa.image.transform`. This function expects the transformation matrix to be a list of length 8. The function assumes that the ninth value in the matrix (corresponding to the bottom right corner) is always 1. Additionally, the function supports various `fill_modes` which sets the value of points that fall outside of the boundaries of the input."
   ]
  },
  {
   "cell_type": "code",
   "execution_count": 10,
   "metadata": {
    "colab": {
     "base_uri": "https://localhost:8080/"
    },
    "id": "0cZxSvyApAhA",
    "outputId": "548edb1b-ca19-49d4-98b2-5103f3e5800f"
   },
   "outputs": [
    {
     "data": {
      "text/plain": [
       "array([0.59692916, 0.        , 0.        , 0.        , 0.54342923,\n",
       "       0.        , 0.        , 0.        ])"
      ]
     },
     "execution_count": 10,
     "metadata": {
      "tags": []
     },
     "output_type": "execute_result"
    }
   ],
   "source": [
    "m = m.flatten()[0:8]\n",
    "m"
   ]
  },
  {
   "cell_type": "code",
   "execution_count": 11,
   "metadata": {
    "colab": {
     "base_uri": "https://localhost:8080/",
     "height": 216
    },
    "id": "t58K8wWDlHXu",
    "outputId": "bc8c3d46-2e7f-48c6-8ad5-bdc2f673a415"
   },
   "outputs": [
    {
     "data": {
      "image/png": "[encoded data removed]",
      "text/plain": [
       "<Figure size 432x288 with 2 Axes>"
      ]
     },
     "metadata": {
      "needs_background": "light",
      "tags": []
     },
     "output_type": "display_data"
    }
   ],
   "source": [
    "for im,label in dataset.take(1):\n",
    "    fig,ax = plt.subplots(1,2)\n",
    "    ax[0].imshow(im)\n",
    "    ax[0].set_title('Raw')\n",
    "    ax[1].set_title('Transformed')\n",
    "\n",
    "    imt = tfa.image.transform(im, m, fill_mode='constant', fill_value=0)\n",
    "    ax[1].imshow(imt)"
   ]
  },
  {
   "cell_type": "markdown",
   "metadata": {
    "id": "gKNoYK55rDeL"
   },
   "source": [
    "We are now ready to write an augmentation function that can be fed into `dataset.map`. The inputs for our new function should match the output of `dataset.take(1)` which in this case is a tuple with an X and y value."
   ]
  },
  {
   "cell_type": "code",
   "execution_count": 12,
   "metadata": {
    "colab": {
     "base_uri": "https://localhost:8080/",
     "height": 809
    },
    "id": "JdoX9M-frafi",
    "outputId": "457aa654-54f3-4df6-9557-e2be8227ed84"
   },
   "outputs": [
    {
     "data": {
      "image/png": "[encoded data removed]",
      "text/plain": [
       "<Figure size 432x288 with 1 Axes>"
      ]
     },
     "metadata": {
      "needs_background": "light",
      "tags": []
     },
     "output_type": "display_data"
    },
    {
     "data": {
      "image/png": "[encoded data removed]",
      "text/plain": [
       "<Figure size 432x288 with 1 Axes>"
      ]
     },
     "metadata": {
      "needs_background": "light",
      "tags": []
     },
     "output_type": "display_data"
    },
    {
     "data": {
      "image/png": "[encoded data removed]",
      "text/plain": [
       "<Figure size 432x288 with 1 Axes>"
      ]
     },
     "metadata": {
      "needs_background": "light",
      "tags": []
     },
     "output_type": "display_data"
    }
   ],
   "source": [
    "def augment(*args):\n",
    "    im = args[0]\n",
    "    label = args[1]\n",
    "\n",
    "    m = compute_random_zoom(0.5,2)\n",
    "    m = m.flatten()[0:8]\n",
    "\n",
    "    imt = tfa.image.transform(im, m, fill_mode='constant', fill_value=0)\n",
    "\n",
    "    return imt,label\n",
    "\n",
    "aug_dataset = dataset.map(augment)\n",
    "\n",
    "for im,label in aug_dataset.take(3):\n",
    "    fig,ax = plt.subplots()\n",
    "    ax.imshow(im)\n",
    "    ax.set_title(label.numpy())"
   ]
  },
  {
   "cell_type": "markdown",
   "metadata": {
    "id": "GZvqcO34eM4l"
   },
   "source": [
    "Next, the dataset is broken into batches for model training. The batch size determines how many datapoints are fed through a model before the model is updated. \n",
    "\n",
    "```python\n",
    "dataset = dataset.batch(20)\n",
    "```\n",
    "\n",
    "In this examples we have applied each transformation to the dataset sequentially, but practically it's most convenient to apply them in a single line as shown below.\n",
    "\n",
    "```python\n",
    "dataset.shuffle(5000,seed=123,reshuffle_each_iteration=True).map(augment).batch(20)\n",
    "```"
   ]
  },
  {
   "cell_type": "markdown",
   "metadata": {
    "id": "pp1-Z6XQHq7O"
   },
   "source": [
    "## Exercise - Image Augmentation\n",
    "Try expanding the `augment` function to include at least one additional transformation such as rotation. Remember that you use the dot product of two matrices to combine two transformations into one."
   ]
  },
  {
   "cell_type": "code",
   "execution_count": 13,
   "metadata": {
    "id": "z5Isx4b9E3gc"
   },
   "outputs": [],
   "source": [
    "##########################\n",
    "######## To Do ###########\n",
    "##########################\n",
    "\n",
    "def augment(*args):\n",
    "    im = args[0]\n",
    "    label = args[1]\n",
    "\n",
    "    # Add your transformations here\n",
    "\n",
    "    return imt,label"
   ]
  },
  {
   "cell_type": "markdown",
   "metadata": {
    "id": "xYyjtLe2qoNw"
   },
   "source": [
    "## Sequence Datasets\n",
    "\n",
    "We can also use `tf.data` to prepare sequencing data for training. We will use a dataset published as part of the DREAM5 challenge and included as part of the supplement in Alphani et al. 2015.\n",
    "\n",
    "Alipanahi, B., Delong, A., Weirauch, M.T., and Frey, B.J. (2015). Predicting the sequence specificities of DNA- and RNA-binding proteins by deep learning. Nature Biotechnology 33, 831–838.\n",
    "\n",
    "For more information on the 2013 DREAM5 Motif Recognition Challenge protocols and evaluation,\n",
    "please refer to Weirauch et al., 2013 (Nature Biotechnology, doi:10.1038/nbt.2486)"
   ]
  },
  {
   "cell_type": "markdown",
   "metadata": {
    "id": "ffsypWlIwbVF"
   },
   "source": [
    "We'll start by loading ChipSeq data for a single transcription factor."
   ]
  },
  {
   "cell_type": "code",
   "execution_count": 15,
   "metadata": {
    "colab": {
     "base_uri": "https://localhost:8080/",
     "height": 419
    },
    "id": "5i3Sid_7x8Ll",
    "outputId": "5a285e5e-d43e-43e8-dff7-0b3662627815"
   },
   "outputs": [
    {
     "data": {
      "text/html": [
       "<div>\n",
       "<style scoped>\n",
       "    .dataframe tbody tr th:only-of-type {\n",
       "        vertical-align: middle;\n",
       "    }\n",
       "\n",
       "    .dataframe tbody tr th {\n",
       "        vertical-align: top;\n",
       "    }\n",
       "\n",
       "    .dataframe thead th {\n",
       "        text-align: right;\n",
       "    }\n",
       "</style>\n",
       "<table border=\"1\" class=\"dataframe\">\n",
       "  <thead>\n",
       "    <tr style=\"text-align: right;\">\n",
       "      <th></th>\n",
       "      <th>0</th>\n",
       "      <th>1</th>\n",
       "    </tr>\n",
       "  </thead>\n",
       "  <tbody>\n",
       "    <tr>\n",
       "      <th>0</th>\n",
       "      <td>TGTGCTGAGTGACAGACTCATCAAGGCATGGCACTTCACACCTCTT...</td>\n",
       "      <td>1</td>\n",
       "    </tr>\n",
       "    <tr>\n",
       "      <th>1</th>\n",
       "      <td>TTGGCAAGCCTTTGCACTGGCAGTCAAGAACTCAGGAGTGAGAGGG...</td>\n",
       "      <td>1</td>\n",
       "    </tr>\n",
       "    <tr>\n",
       "      <th>2</th>\n",
       "      <td>TTCTGGAGGTGTTAAATGGGAAGGTGGCAGGGCCCTGCACACACAC...</td>\n",
       "      <td>1</td>\n",
       "    </tr>\n",
       "    <tr>\n",
       "      <th>3</th>\n",
       "      <td>CCCACCAGCAGACAGAGGGACAGCCTTCACAGATGATCCTGTATTT...</td>\n",
       "      <td>1</td>\n",
       "    </tr>\n",
       "    <tr>\n",
       "      <th>4</th>\n",
       "      <td>CCAGTTTCTGACAGCCTTGTCACACTAGGTGTTAAGTGAAAAACAT...</td>\n",
       "      <td>1</td>\n",
       "    </tr>\n",
       "    <tr>\n",
       "      <th>...</th>\n",
       "      <td>...</td>\n",
       "      <td>...</td>\n",
       "    </tr>\n",
       "    <tr>\n",
       "      <th>995</th>\n",
       "      <td>AAAGGACAGGGACCTAGATAAAAAGATTACAGGGAACACTAGAACT...</td>\n",
       "      <td>0</td>\n",
       "    </tr>\n",
       "    <tr>\n",
       "      <th>996</th>\n",
       "      <td>TTTAAAGAAATATCCAAATACTTTTCATTATGAAATAGAATTTGAT...</td>\n",
       "      <td>0</td>\n",
       "    </tr>\n",
       "    <tr>\n",
       "      <th>997</th>\n",
       "      <td>TCCCCCTTCCCATTCTGTTCATCATGGTAATAGCTGGCCCTGTGTA...</td>\n",
       "      <td>0</td>\n",
       "    </tr>\n",
       "    <tr>\n",
       "      <th>998</th>\n",
       "      <td>ATGATCTGAATCAAGATTTACCCAATTTCAATTGAATTCTTTTCTA...</td>\n",
       "      <td>0</td>\n",
       "    </tr>\n",
       "    <tr>\n",
       "      <th>999</th>\n",
       "      <td>TCAGGGAAAAGAGACTATCCCTATTTTATTTACAGAAGCAAAGAAC...</td>\n",
       "      <td>0</td>\n",
       "    </tr>\n",
       "  </tbody>\n",
       "</table>\n",
       "<p>1000 rows × 2 columns</p>\n",
       "</div>"
      ],
      "text/plain": [
       "                                                     0  1\n",
       "0    TGTGCTGAGTGACAGACTCATCAAGGCATGGCACTTCACACCTCTT...  1\n",
       "1    TTGGCAAGCCTTTGCACTGGCAGTCAAGAACTCAGGAGTGAGAGGG...  1\n",
       "2    TTCTGGAGGTGTTAAATGGGAAGGTGGCAGGGCCCTGCACACACAC...  1\n",
       "3    CCCACCAGCAGACAGAGGGACAGCCTTCACAGATGATCCTGTATTT...  1\n",
       "4    CCAGTTTCTGACAGCCTTGTCACACTAGGTGTTAAGTGAAAAACAT...  1\n",
       "..                                                 ... ..\n",
       "995  AAAGGACAGGGACCTAGATAAAAAGATTACAGGGAACACTAGAACT...  0\n",
       "996  TTTAAAGAAATATCCAAATACTTTTCATTATGAAATAGAATTTGAT...  0\n",
       "997  TCCCCCTTCCCATTCTGTTCATCATGGTAATAGCTGGCCCTGTGTA...  0\n",
       "998  ATGATCTGAATCAAGATTTACCCAATTTCAATTGAATTCTTTTCTA...  0\n",
       "999  TCAGGGAAAAGAGACTATCCCTATTTTATTTACAGAAGCAAAGAAC...  0\n",
       "\n",
       "[1000 rows x 2 columns]"
      ]
     },
     "execution_count": 15,
     "metadata": {
      "tags": []
     },
     "output_type": "execute_result"
    }
   ],
   "source": [
    "csfile = 'https://storage.googleapis.com/datasets-spring2021/dream5/chipseq/TF_23_CHIP_100_full_genomic.seq'\n",
    "df = pd.read_csv(csfile,delimiter='\\t',header=None)\n",
    "df"
   ]
  },
  {
   "cell_type": "markdown",
   "metadata": {
    "id": "25-ZJJJFyGMm"
   },
   "source": [
    "We need to check the length of each sequence to see if they are consistent or if we will need to pad/truncate to achieve a consistent length."
   ]
  },
  {
   "cell_type": "code",
   "execution_count": 16,
   "metadata": {
    "colab": {
     "base_uri": "https://localhost:8080/"
    },
    "id": "FB3s7tKwCU7g",
    "outputId": "8bf0b46c-6bbd-4406-9e27-8d6e72169205"
   },
   "outputs": [
    {
     "data": {
      "text/plain": [
       "array([101])"
      ]
     },
     "execution_count": 16,
     "metadata": {
      "tags": []
     },
     "output_type": "execute_result"
    }
   ],
   "source": [
    "df[0].str.len().unique()"
   ]
  },
  {
   "cell_type": "markdown",
   "metadata": {
    "id": "7o2uUXD9DvTc"
   },
   "source": [
    "### One Hot DNA\n",
    "Since are sequences are all the same length (101 bases), we can continue and look at applying one hot encoding to our data. `scikit-learn` has a useful preprocessing function `OneHotEncoder` that we can use, but we will need to provide our data in an array instead of a pandas dataframe."
   ]
  },
  {
   "cell_type": "code",
   "execution_count": 17,
   "metadata": {
    "id": "AzqKUHPEEm9C"
   },
   "outputs": [],
   "source": [
    "##########################\n",
    "######## To Do ###########\n",
    "##########################\n",
    "\n",
    "# Write a function that takes in a dataframe of sequences and labels \n",
    "# And returns two arrays, X and y\n",
    "# X.shape = (number of samples, length of sequence)\n",
    "# Y.shape = (number of samples, 1)\n",
    "\n",
    "def seq_to_array(df):\n",
    "\n",
    "    # Add your code here\n",
    "\n",
    "    return X,y"
   ]
  },
  {
   "cell_type": "code",
   "execution_count": 19,
   "metadata": {
    "colab": {
     "base_uri": "https://localhost:8080/"
    },
    "id": "bQXYg0III2P7",
    "outputId": "fc740197-2c37-49c8-a54d-aeb57ce6ab5c"
   },
   "outputs": [
    {
     "name": "stdout",
     "output_type": "stream",
     "text": [
      "(1000, 101)\n",
      "['T' 'G' 'T' 'G' 'C' 'T' 'G' 'A' 'G' 'T' 'G' 'A' 'C' 'A' 'G' 'A' 'C' 'T'\n",
      " 'C' 'A' 'T' 'C' 'A' 'A' 'G' 'G' 'C' 'A' 'T' 'G' 'G' 'C' 'A' 'C' 'T' 'T'\n",
      " 'C' 'A' 'C' 'A' 'C' 'C' 'T' 'C' 'T' 'T' 'A' 'C' 'A' 'G' 'A' 'G' 'C' 'A'\n",
      " 'A' 'A' 'G' 'C' 'C' 'T' 'C' 'G' 'A' 'A' 'A' 'T' 'C' 'A' 'C' 'C' 'C' 'G'\n",
      " 'G' 'C' 'A' 'A' 'A' 'A' 'T' 'C' 'T' 'C' 'C' 'C' 'T' 'A' 'G' 'T' 'C' 'C'\n",
      " 'T' 'G' 'C' 'C' 'T' 'C' 'T' 'T' 'G' 'G' 'G']\n",
      "(1000, 1)\n",
      "[1]\n"
     ]
    }
   ],
   "source": [
    "Xraw,yraw = seq_to_array(df)\n",
    "print(Xraw.shape)\n",
    "print(Xraw[0])\n",
    "print(yraw.shape)\n",
    "print(yraw[0])"
   ]
  },
  {
   "cell_type": "code",
   "execution_count": 20,
   "metadata": {
    "id": "Qs2SKyEWCehX"
   },
   "outputs": [],
   "source": [
    "from sklearn.preprocessing import OneHotEncoder\n",
    "\n",
    "onehotDNA = OneHotEncoder()"
   ]
  },
  {
   "cell_type": "markdown",
   "metadata": {
    "id": "kTbHri_BMcC7"
   },
   "source": [
    "The encoder expects that each column in the dataset is a unique feature set. Since we are dealing with one feature set (ATGC), we need to reshape our data to comply.\n",
    "\n"
   ]
  },
  {
   "cell_type": "code",
   "execution_count": 21,
   "metadata": {
    "colab": {
     "base_uri": "https://localhost:8080/"
    },
    "id": "veaVDSWRLC8G",
    "outputId": "67821bca-4599-4658-eb59-2f322d2e0469"
   },
   "outputs": [
    {
     "data": {
      "text/plain": [
       "(101000, 1)"
      ]
     },
     "execution_count": 21,
     "metadata": {
      "tags": []
     },
     "output_type": "execute_result"
    }
   ],
   "source": [
    "Xpre = Xraw.reshape(-1,1)\n",
    "Xpre.shape"
   ]
  },
  {
   "cell_type": "code",
   "execution_count": 22,
   "metadata": {
    "colab": {
     "base_uri": "https://localhost:8080/"
    },
    "id": "PTiYaZ8pJE6B",
    "outputId": "439bb6f0-c214-41d2-86b6-318539e52e93"
   },
   "outputs": [
    {
     "data": {
      "text/plain": [
       "[array(['A', 'C', 'G', 'T'], dtype='<U1')]"
      ]
     },
     "execution_count": 22,
     "metadata": {
      "tags": []
     },
     "output_type": "execute_result"
    }
   ],
   "source": [
    "onehotDNA.fit(Xpre)\n",
    "onehotDNA.categories_"
   ]
  },
  {
   "cell_type": "code",
   "execution_count": 23,
   "metadata": {
    "colab": {
     "base_uri": "https://localhost:8080/"
    },
    "id": "EzpT9PccN2Eu",
    "outputId": "0ae942f6-9c62-4659-cf33-6c5fc7b4fd74"
   },
   "outputs": [
    {
     "name": "stdout",
     "output_type": "stream",
     "text": [
      "(101000, 4)\n"
     ]
    },
    {
     "data": {
      "text/plain": [
       "array([[0., 0., 0., 1.],\n",
       "       [0., 0., 1., 0.],\n",
       "       [0., 0., 0., 1.],\n",
       "       ...,\n",
       "       [0., 0., 1., 0.],\n",
       "       [1., 0., 0., 0.],\n",
       "       [1., 0., 0., 0.]])"
      ]
     },
     "execution_count": 23,
     "metadata": {
      "tags": []
     },
     "output_type": "execute_result"
    }
   ],
   "source": [
    "Xpost = onehotDNA.transform(Xpre).toarray()\n",
    "print(Xpost.shape)\n",
    "Xpost"
   ]
  },
  {
   "cell_type": "code",
   "execution_count": 24,
   "metadata": {
    "id": "ueTcpmIxRG_-"
   },
   "outputs": [],
   "source": [
    "out = onehotDNA.fit_transform(Xpre).toarray()"
   ]
  },
  {
   "cell_type": "markdown",
   "metadata": {
    "id": "kxrBaIAqPDlQ"
   },
   "source": [
    "Now each character is one-hot encoded, but we need to reshape the array to restore the proper shape (number of samples, len of sequence, 4)."
   ]
  },
  {
   "cell_type": "code",
   "execution_count": 25,
   "metadata": {
    "colab": {
     "base_uri": "https://localhost:8080/"
    },
    "id": "pz9lW4TzPQQ_",
    "outputId": "e5a7a06a-fcf2-4e24-d446-bca395809397"
   },
   "outputs": [
    {
     "data": {
      "text/plain": [
       "(1000, 101, 4)"
      ]
     },
     "execution_count": 25,
     "metadata": {
      "tags": []
     },
     "output_type": "execute_result"
    }
   ],
   "source": [
    "X = Xpost.reshape(Xraw.shape[0],Xraw.shape[1],4)\n",
    "X.shape"
   ]
  },
  {
   "cell_type": "markdown",
   "metadata": {
    "id": "a2t-cKYzRiuW"
   },
   "source": [
    "Finally, we can compile all of the steps needed to get from the `.seq` file to the final form of the data into a single preprocessing function that returns a tensorflow dataset object."
   ]
  },
  {
   "cell_type": "code",
   "execution_count": 26,
   "metadata": {
    "id": "VIABwJMcTI48"
   },
   "outputs": [],
   "source": [
    "def load_seq(fpath):\n",
    "    df = pd.read_csv(csfile,delimiter='\\t',header=None)\n",
    "    Xraw,yraw = seq_to_array(df)\n",
    "    \n",
    "    onehotDNA = OneHotEncoder()\n",
    "\n",
    "    # We can fit and transform in a single step now\n",
    "    X = onehotDNA.fit_transform(Xraw.reshape(-1,1)).toarray()\n",
    "    # Reshape to pull out individual samples\n",
    "    X = X.reshape(Xraw.shape[0],Xraw.shape[1],4)\n",
    "\n",
    "    dataset = tf.data.Dataset.from_tensor_slices((X,yraw))\n",
    "\n",
    "    return dataset"
   ]
  },
  {
   "cell_type": "code",
   "execution_count": 27,
   "metadata": {
    "id": "5Fs80Oh0TsMI"
   },
   "outputs": [],
   "source": [
    "dataset = load_seq(csfile)"
   ]
  },
  {
   "cell_type": "code",
   "execution_count": 28,
   "metadata": {
    "colab": {
     "base_uri": "https://localhost:8080/"
    },
    "id": "hHDkZU3HUX_-",
    "outputId": "3c12a344-526d-4d08-b92a-9d6e4ce56590"
   },
   "outputs": [
    {
     "name": "stdout",
     "output_type": "stream",
     "text": [
      "tf.Tensor([1], shape=(1,), dtype=int64) \t tf.Tensor(\n",
      "[[0. 0. 0. 1.]\n",
      " [0. 0. 1. 0.]\n",
      " [0. 0. 0. 1.]\n",
      " [0. 0. 1. 0.]\n",
      " [0. 1. 0. 0.]\n",
      " [0. 0. 0. 1.]\n",
      " [0. 0. 1. 0.]\n",
      " [1. 0. 0. 0.]\n",
      " [0. 0. 1. 0.]\n",
      " [0. 0. 0. 1.]\n",
      " [0. 0. 1. 0.]\n",
      " [1. 0. 0. 0.]\n",
      " [0. 1. 0. 0.]\n",
      " [1. 0. 0. 0.]\n",
      " [0. 0. 1. 0.]\n",
      " [1. 0. 0. 0.]\n",
      " [0. 1. 0. 0.]\n",
      " [0. 0. 0. 1.]\n",
      " [0. 1. 0. 0.]\n",
      " [1. 0. 0. 0.]\n",
      " [0. 0. 0. 1.]\n",
      " [0. 1. 0. 0.]\n",
      " [1. 0. 0. 0.]\n",
      " [1. 0. 0. 0.]\n",
      " [0. 0. 1. 0.]\n",
      " [0. 0. 1. 0.]\n",
      " [0. 1. 0. 0.]\n",
      " [1. 0. 0. 0.]\n",
      " [0. 0. 0. 1.]\n",
      " [0. 0. 1. 0.]\n",
      " [0. 0. 1. 0.]\n",
      " [0. 1. 0. 0.]\n",
      " [1. 0. 0. 0.]\n",
      " [0. 1. 0. 0.]\n",
      " [0. 0. 0. 1.]\n",
      " [0. 0. 0. 1.]\n",
      " [0. 1. 0. 0.]\n",
      " [1. 0. 0. 0.]\n",
      " [0. 1. 0. 0.]\n",
      " [1. 0. 0. 0.]\n",
      " [0. 1. 0. 0.]\n",
      " [0. 1. 0. 0.]\n",
      " [0. 0. 0. 1.]\n",
      " [0. 1. 0. 0.]\n",
      " [0. 0. 0. 1.]\n",
      " [0. 0. 0. 1.]\n",
      " [1. 0. 0. 0.]\n",
      " [0. 1. 0. 0.]\n",
      " [1. 0. 0. 0.]\n",
      " [0. 0. 1. 0.]\n",
      " [1. 0. 0. 0.]\n",
      " [0. 0. 1. 0.]\n",
      " [0. 1. 0. 0.]\n",
      " [1. 0. 0. 0.]\n",
      " [1. 0. 0. 0.]\n",
      " [1. 0. 0. 0.]\n",
      " [0. 0. 1. 0.]\n",
      " [0. 1. 0. 0.]\n",
      " [0. 1. 0. 0.]\n",
      " [0. 0. 0. 1.]\n",
      " [0. 1. 0. 0.]\n",
      " [0. 0. 1. 0.]\n",
      " [1. 0. 0. 0.]\n",
      " [1. 0. 0. 0.]\n",
      " [1. 0. 0. 0.]\n",
      " [0. 0. 0. 1.]\n",
      " [0. 1. 0. 0.]\n",
      " [1. 0. 0. 0.]\n",
      " [0. 1. 0. 0.]\n",
      " [0. 1. 0. 0.]\n",
      " [0. 1. 0. 0.]\n",
      " [0. 0. 1. 0.]\n",
      " [0. 0. 1. 0.]\n",
      " [0. 1. 0. 0.]\n",
      " [1. 0. 0. 0.]\n",
      " [1. 0. 0. 0.]\n",
      " [1. 0. 0. 0.]\n",
      " [1. 0. 0. 0.]\n",
      " [0. 0. 0. 1.]\n",
      " [0. 1. 0. 0.]\n",
      " [0. 0. 0. 1.]\n",
      " [0. 1. 0. 0.]\n",
      " [0. 1. 0. 0.]\n",
      " [0. 1. 0. 0.]\n",
      " [0. 0. 0. 1.]\n",
      " [1. 0. 0. 0.]\n",
      " [0. 0. 1. 0.]\n",
      " [0. 0. 0. 1.]\n",
      " [0. 1. 0. 0.]\n",
      " [0. 1. 0. 0.]\n",
      " [0. 0. 0. 1.]\n",
      " [0. 0. 1. 0.]\n",
      " [0. 1. 0. 0.]\n",
      " [0. 1. 0. 0.]\n",
      " [0. 0. 0. 1.]\n",
      " [0. 1. 0. 0.]\n",
      " [0. 0. 0. 1.]\n",
      " [0. 0. 0. 1.]\n",
      " [0. 0. 1. 0.]\n",
      " [0. 0. 1. 0.]\n",
      " [0. 0. 1. 0.]], shape=(101, 4), dtype=float64)\n"
     ]
    }
   ],
   "source": [
    "for seq,label in dataset.take(1):\n",
    "    print(label,'\\t',seq)"
   ]
  },
  {
   "cell_type": "markdown",
   "metadata": {
    "id": "oL-cqY-TUgn7"
   },
   "source": [
    "We are now ready to shuffle and batch the dataset for training. In a future notebook, we'll spend more time thinking about appropriate augmentation strategies for sequence data."
   ]
  }
 ],
 "metadata": {
  "colab": {
   "collapsed_sections": [],
   "name": "tf-dataset-key.ipynb",
   "provenance": [],
   "toc_visible": true
  },
  "kernelspec": {
   "display_name": "Python [default]",
   "language": "python",
   "name": "python3"
  },
  "language_info": {
   "codemirror_mode": {
    "name": "ipython",
    "version": 3
   },
   "file_extension": ".py",
   "mimetype": "text/x-python",
   "name": "python",
   "nbconvert_exporter": "python",
   "pygments_lexer": "ipython3",
   "version": "3.7.2"
  }
 },
 "nbformat": 4,
 "nbformat_minor": 2
}
