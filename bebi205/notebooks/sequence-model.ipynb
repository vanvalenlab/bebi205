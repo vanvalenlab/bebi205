{
 "cells": [
  {
   "cell_type": "markdown",
   "metadata": {
    "id": "rszGgkdOMhTS"
   },
   "source": [
    "# Sequence Models\n",
    "```{eval-rst}\n",
    "Last updated |lastupdate|\n",
    "```\n",
    "[![Open in Colab](https://img.shields.io/static/v1?logo=google-colab&message=Open%20in%20colab&color=blue&label=%20&labelColor=5c5c5c)](https://colab.research.google.com/github/vanvalenlab/bebi205/blob/master/bebi205/notebooks/sequence-model.ipynb)\n",
    "\n",
    "We are going to reproduce the models published in Hie et al. 2021. The fasta file that we will initially work with is hosted in the class bucket, but the full dataset can be donwloaded using the following command:\n",
    "```bash\n",
    "wget http://cb.csail.mit.edu/cb/viral-mutation/data.tar.gz\n",
    "tar xvf data.tar.gz\n",
    "```\n",
    "\n",
    "Hie, B., Zhong, E. D., Berger, B., & Bryson, B. (2021). [Learning the language of viral evolution and escape.](https://doi.org/10.1126/science.abd7331) *Science*, 371(6526), 284-288."
   ]
  },
  {
   "cell_type": "code",
   "execution_count": null,
   "metadata": {},
   "outputs": [],
   "source": [
    "!pip install biopython"
   ]
  },
  {
   "cell_type": "code",
   "execution_count": 1,
   "metadata": {
    "id": "9mrIb4jNOYDr"
   },
   "outputs": [],
   "source": [
    "from Bio import SeqIO\n",
    "import numpy as np\n",
    "import pandas as pd\n",
    "import tensorflow as tf\n",
    "import umap\n",
    "import matplotlib.pyplot as plt"
   ]
  },
  {
   "cell_type": "markdown",
   "metadata": {
    "id": "sq22rccsNJpb"
   },
   "source": [
    "## Data Preparation"
   ]
  },
  {
   "cell_type": "code",
   "execution_count": 3,
   "metadata": {
    "colab": {
     "base_uri": "https://localhost:8080/"
    },
    "id": "1ktNS0ArbPf5",
    "outputId": "cd6d0626-02d2-4f79-cc4f-eba80ba97a97",
    "tags": [
     "remove-output"
    ]
   },
   "outputs": [
    {
     "name": "stdout",
     "output_type": "stream",
     "text": [
      "--2021-04-22 20:56:20--  https://storage.googleapis.com/datasets-spring2021/ird_influenzaA_HA_allspecies.fa\n",
      "Resolving storage.googleapis.com (storage.googleapis.com)... 142.250.68.16, 142.250.68.80, 172.217.11.176, ...\n",
      "Connecting to storage.googleapis.com (storage.googleapis.com)|142.250.68.16|:443... connected.\n",
      "HTTP request sent, awaiting response... 200 OK\n",
      "Length: 75204096 (72M) [application/octet-stream]\n",
      "Saving to: ‘ird_influenzaA_HA_allspecies.fa.5’\n",
      "\n",
      "100%[======================================>] 75,204,096   100MB/s   in 0.7s   \n",
      "\n",
      "2021-04-22 20:56:21 (100 MB/s) - ‘ird_influenzaA_HA_allspecies.fa.5’ saved [75204096/75204096]\n",
      "\n"
     ]
    }
   ],
   "source": [
    "!wget https://storage.googleapis.com/datasets-spring2021/ird_influenzaA_HA_allspecies.fa"
   ]
  },
  {
   "cell_type": "markdown",
   "metadata": {
    "id": "ZfpRpqZOSoxr"
   },
   "source": [
    "First we'll collect the sequences and their descriptions in two separate lists."
   ]
  },
  {
   "cell_type": "code",
   "execution_count": 2,
   "metadata": {
    "colab": {
     "base_uri": "https://localhost:8080/"
    },
    "id": "xH_WI0RAPcnt",
    "outputId": "b3a2f0e2-ac41-49d2-9e56-57103326d49c"
   },
   "outputs": [
    {
     "data": {
      "text/plain": [
       "94560"
      ]
     },
     "execution_count": 2,
     "metadata": {},
     "output_type": "execute_result"
    }
   ],
   "source": [
    "# File paths for influenze sequences and metadata\n",
    "fpath = 'ird_influenzaA_HA_allspecies.fa' \n",
    "\n",
    "seqs, dscr, length = [],[],[]\n",
    "for record in SeqIO.parse(fpath, 'fasta'):\n",
    "    seqs.append(record.seq)\n",
    "    dscr.append(record.description)\n",
    "    length.append(len(record))\n",
    "\n",
    "len(seqs)"
   ]
  },
  {
   "cell_type": "markdown",
   "metadata": {
    "id": "wcZxL9NEJAyv"
   },
   "source": [
    "## Process Metadata\n",
    "Each sequence carries a text based description that we collected in a list. We can pass it into a pandas dataframe and then parse out useful information."
   ]
  },
  {
   "cell_type": "code",
   "execution_count": 16,
   "metadata": {
    "colab": {
     "base_uri": "https://localhost:8080/",
     "height": 204
    },
    "id": "XlTrGnNHTIdv",
    "outputId": "68c4f65a-c23e-431f-913f-81fe8f6f31c2"
   },
   "outputs": [
    {
     "data": {
      "text/html": [
       "<div>\n",
       "<style scoped>\n",
       "    .dataframe tbody tr th:only-of-type {\n",
       "        vertical-align: middle;\n",
       "    }\n",
       "\n",
       "    .dataframe tbody tr th {\n",
       "        vertical-align: top;\n",
       "    }\n",
       "\n",
       "    .dataframe thead th {\n",
       "        text-align: right;\n",
       "    }\n",
       "</style>\n",
       "<table border=\"1\" class=\"dataframe\">\n",
       "  <thead>\n",
       "    <tr style=\"text-align: right;\">\n",
       "      <th></th>\n",
       "      <th>description</th>\n",
       "    </tr>\n",
       "  </thead>\n",
       "  <tbody>\n",
       "    <tr>\n",
       "      <th>0</th>\n",
       "      <td>gb:K00429|ncbiId:AAR96248.1|UniProtKB:Q6LEJ4|O...</td>\n",
       "    </tr>\n",
       "    <tr>\n",
       "      <th>1</th>\n",
       "      <td>gb:J02176|ncbiId:AAA43209.1|UniProtKB:P03454|O...</td>\n",
       "    </tr>\n",
       "    <tr>\n",
       "      <th>2</th>\n",
       "      <td>gb:CY021709|ncbiId:ABP49327.1|UniProtKB:A4U6V2...</td>\n",
       "    </tr>\n",
       "    <tr>\n",
       "      <th>3</th>\n",
       "      <td>gb:CY020285|ncbiId:ABO38054.1|UniProtKB:A4GBW6...</td>\n",
       "    </tr>\n",
       "    <tr>\n",
       "      <th>4</th>\n",
       "      <td>gb:CY083910|ncbiId:ADX98960.1|UniProtKB:F0TT51...</td>\n",
       "    </tr>\n",
       "  </tbody>\n",
       "</table>\n",
       "</div>"
      ],
      "text/plain": [
       "                                         description\n",
       "0  gb:K00429|ncbiId:AAR96248.1|UniProtKB:Q6LEJ4|O...\n",
       "1  gb:J02176|ncbiId:AAA43209.1|UniProtKB:P03454|O...\n",
       "2  gb:CY021709|ncbiId:ABP49327.1|UniProtKB:A4U6V2...\n",
       "3  gb:CY020285|ncbiId:ABO38054.1|UniProtKB:A4GBW6...\n",
       "4  gb:CY083910|ncbiId:ADX98960.1|UniProtKB:F0TT51..."
      ]
     },
     "execution_count": 16,
     "metadata": {},
     "output_type": "execute_result"
    }
   ],
   "source": [
    "df = pd.DataFrame({'description':dscr})\n",
    "df.head()"
   ]
  },
  {
   "cell_type": "code",
   "execution_count": 17,
   "metadata": {
    "colab": {
     "base_uri": "https://localhost:8080/"
    },
    "id": "2unDsk3MTTg8",
    "outputId": "b0d5156c-2ce3-4d3b-e815-3ee56907ebc6"
   },
   "outputs": [
    {
     "data": {
      "text/plain": [
       "array(['gb:K00429|ncbiId:AAR96248.1|UniProtKB:Q6LEJ4|Organism:Influenza A virus (A/seal/Mass/1/1980(H7N7))|Strain Name:A/seal/Mass/1/1980|Protein Name:HA Hemagglutinin|Gene Symbol:HA|Segment:4|Subtype:H7N7|Host:Sea Mammal'],\n",
       "      dtype=object)"
      ]
     },
     "execution_count": 17,
     "metadata": {},
     "output_type": "execute_result"
    }
   ],
   "source": [
    "df.iloc[0].values"
   ]
  },
  {
   "cell_type": "markdown",
   "metadata": {
    "id": "f_wEHIIqTg_w"
   },
   "source": [
    "Pandas has useful [functions for parsing string data](https://pandas.pydata.org/pandas-docs/stable/reference/series.html#string-handling) which we will leverate to turn the description into a table of metadata."
   ]
  },
  {
   "cell_type": "code",
   "execution_count": 18,
   "metadata": {
    "colab": {
     "base_uri": "https://localhost:8080/"
    },
    "id": "XJfIeQebTnxt",
    "outputId": "0ca04cbc-0cd4-4cfe-aff5-402785347c2b"
   },
   "outputs": [
    {
     "data": {
      "text/plain": [
       "['gb',\n",
       " 'ncbiId',\n",
       " 'UniProtKB',\n",
       " 'Organism',\n",
       " 'Strain Name',\n",
       " 'Protein Name',\n",
       " 'Gene Symbol',\n",
       " 'Segment',\n",
       " 'Subtype',\n",
       " 'Host']"
      ]
     },
     "execution_count": 18,
     "metadata": {},
     "output_type": "execute_result"
    }
   ],
   "source": [
    "# Extract column names\n",
    "cols = [i.split(':')[0] for i in df.iloc[0].values[0].split('|')]\n",
    "cols"
   ]
  },
  {
   "cell_type": "code",
   "execution_count": 19,
   "metadata": {
    "colab": {
     "base_uri": "https://localhost:8080/",
     "height": 411
    },
    "id": "NBTs0NOkT2c2",
    "outputId": "36ecab39-33a1-45b8-813e-87d604d67baf"
   },
   "outputs": [
    {
     "data": {
      "text/html": [
       "<div>\n",
       "<style scoped>\n",
       "    .dataframe tbody tr th:only-of-type {\n",
       "        vertical-align: middle;\n",
       "    }\n",
       "\n",
       "    .dataframe tbody tr th {\n",
       "        vertical-align: top;\n",
       "    }\n",
       "\n",
       "    .dataframe thead th {\n",
       "        text-align: right;\n",
       "    }\n",
       "</style>\n",
       "<table border=\"1\" class=\"dataframe\">\n",
       "  <thead>\n",
       "    <tr style=\"text-align: right;\">\n",
       "      <th></th>\n",
       "      <th>description</th>\n",
       "      <th>gb</th>\n",
       "      <th>ncbiId</th>\n",
       "      <th>UniProtKB</th>\n",
       "      <th>Organism</th>\n",
       "      <th>Strain Name</th>\n",
       "      <th>Protein Name</th>\n",
       "      <th>Gene Symbol</th>\n",
       "      <th>Segment</th>\n",
       "      <th>Subtype</th>\n",
       "      <th>Host</th>\n",
       "    </tr>\n",
       "  </thead>\n",
       "  <tbody>\n",
       "    <tr>\n",
       "      <th>0</th>\n",
       "      <td>gb:K00429|ncbiId:AAR96248.1|UniProtKB:Q6LEJ4|O...</td>\n",
       "      <td>gb:K00429</td>\n",
       "      <td>ncbiId:AAR96248.1</td>\n",
       "      <td>UniProtKB:Q6LEJ4</td>\n",
       "      <td>Organism:Influenza A virus (A/seal/Mass/1/1980...</td>\n",
       "      <td>Strain Name:A/seal/Mass/1/1980</td>\n",
       "      <td>Protein Name:HA Hemagglutinin</td>\n",
       "      <td>Gene Symbol:HA</td>\n",
       "      <td>Segment:4</td>\n",
       "      <td>Subtype:H7N7</td>\n",
       "      <td>Host:Sea Mammal</td>\n",
       "    </tr>\n",
       "    <tr>\n",
       "      <th>1</th>\n",
       "      <td>gb:J02176|ncbiId:AAA43209.1|UniProtKB:P03454|O...</td>\n",
       "      <td>gb:J02176</td>\n",
       "      <td>ncbiId:AAA43209.1</td>\n",
       "      <td>UniProtKB:P03454</td>\n",
       "      <td>Organism:Influenza A virus (A/WSN/1933(H1N1))</td>\n",
       "      <td>Strain Name:A/WSN/1933</td>\n",
       "      <td>Protein Name:HA Hemagglutinin</td>\n",
       "      <td>Gene Symbol:HA</td>\n",
       "      <td>Segment:4</td>\n",
       "      <td>Subtype:H1N1</td>\n",
       "      <td>Host:Human</td>\n",
       "    </tr>\n",
       "    <tr>\n",
       "      <th>2</th>\n",
       "      <td>gb:CY021709|ncbiId:ABP49327.1|UniProtKB:A4U6V2...</td>\n",
       "      <td>gb:CY021709</td>\n",
       "      <td>ncbiId:ABP49327.1</td>\n",
       "      <td>UniProtKB:A4U6V2</td>\n",
       "      <td>Organism:Influenza A virus (A/AA/Huston/1945(H...</td>\n",
       "      <td>Strain Name:A/AA/Huston/1945</td>\n",
       "      <td>Protein Name:HA Hemagglutinin</td>\n",
       "      <td>Gene Symbol:HA</td>\n",
       "      <td>Segment:4</td>\n",
       "      <td>Subtype:H1N1</td>\n",
       "      <td>Host:Human</td>\n",
       "    </tr>\n",
       "    <tr>\n",
       "      <th>3</th>\n",
       "      <td>gb:CY020285|ncbiId:ABO38054.1|UniProtKB:A4GBW6...</td>\n",
       "      <td>gb:CY020285</td>\n",
       "      <td>ncbiId:ABO38054.1</td>\n",
       "      <td>UniProtKB:A4GBW6</td>\n",
       "      <td>Organism:Influenza A virus (A/AA/Marton/1943(H...</td>\n",
       "      <td>Strain Name:A/AA/Marton/1943</td>\n",
       "      <td>Protein Name:HA Hemagglutinin</td>\n",
       "      <td>Gene Symbol:HA</td>\n",
       "      <td>Segment:4</td>\n",
       "      <td>Subtype:H1N1</td>\n",
       "      <td>Host:Human</td>\n",
       "    </tr>\n",
       "    <tr>\n",
       "      <th>4</th>\n",
       "      <td>gb:CY083910|ncbiId:ADX98960.1|UniProtKB:F0TT51...</td>\n",
       "      <td>gb:CY083910</td>\n",
       "      <td>ncbiId:ADX98960.1</td>\n",
       "      <td>UniProtKB:F0TT51</td>\n",
       "      <td>Organism:Influenza A virus (A/Aalborg/INS132/2...</td>\n",
       "      <td>Strain Name:A/Aalborg/INS132/2009</td>\n",
       "      <td>Protein Name:HA Hemagglutinin</td>\n",
       "      <td>Gene Symbol:HA</td>\n",
       "      <td>Segment:4</td>\n",
       "      <td>Subtype:H1N1</td>\n",
       "      <td>Host:Human</td>\n",
       "    </tr>\n",
       "  </tbody>\n",
       "</table>\n",
       "</div>"
      ],
      "text/plain": [
       "                                         description           gb  \\\n",
       "0  gb:K00429|ncbiId:AAR96248.1|UniProtKB:Q6LEJ4|O...    gb:K00429   \n",
       "1  gb:J02176|ncbiId:AAA43209.1|UniProtKB:P03454|O...    gb:J02176   \n",
       "2  gb:CY021709|ncbiId:ABP49327.1|UniProtKB:A4U6V2...  gb:CY021709   \n",
       "3  gb:CY020285|ncbiId:ABO38054.1|UniProtKB:A4GBW6...  gb:CY020285   \n",
       "4  gb:CY083910|ncbiId:ADX98960.1|UniProtKB:F0TT51...  gb:CY083910   \n",
       "\n",
       "              ncbiId         UniProtKB  \\\n",
       "0  ncbiId:AAR96248.1  UniProtKB:Q6LEJ4   \n",
       "1  ncbiId:AAA43209.1  UniProtKB:P03454   \n",
       "2  ncbiId:ABP49327.1  UniProtKB:A4U6V2   \n",
       "3  ncbiId:ABO38054.1  UniProtKB:A4GBW6   \n",
       "4  ncbiId:ADX98960.1  UniProtKB:F0TT51   \n",
       "\n",
       "                                            Organism  \\\n",
       "0  Organism:Influenza A virus (A/seal/Mass/1/1980...   \n",
       "1      Organism:Influenza A virus (A/WSN/1933(H1N1))   \n",
       "2  Organism:Influenza A virus (A/AA/Huston/1945(H...   \n",
       "3  Organism:Influenza A virus (A/AA/Marton/1943(H...   \n",
       "4  Organism:Influenza A virus (A/Aalborg/INS132/2...   \n",
       "\n",
       "                         Strain Name                   Protein Name  \\\n",
       "0     Strain Name:A/seal/Mass/1/1980  Protein Name:HA Hemagglutinin   \n",
       "1             Strain Name:A/WSN/1933  Protein Name:HA Hemagglutinin   \n",
       "2       Strain Name:A/AA/Huston/1945  Protein Name:HA Hemagglutinin   \n",
       "3       Strain Name:A/AA/Marton/1943  Protein Name:HA Hemagglutinin   \n",
       "4  Strain Name:A/Aalborg/INS132/2009  Protein Name:HA Hemagglutinin   \n",
       "\n",
       "      Gene Symbol    Segment       Subtype             Host  \n",
       "0  Gene Symbol:HA  Segment:4  Subtype:H7N7  Host:Sea Mammal  \n",
       "1  Gene Symbol:HA  Segment:4  Subtype:H1N1       Host:Human  \n",
       "2  Gene Symbol:HA  Segment:4  Subtype:H1N1       Host:Human  \n",
       "3  Gene Symbol:HA  Segment:4  Subtype:H1N1       Host:Human  \n",
       "4  Gene Symbol:HA  Segment:4  Subtype:H1N1       Host:Human  "
      ]
     },
     "execution_count": 19,
     "metadata": {},
     "output_type": "execute_result"
    }
   ],
   "source": [
    "# Split description at | and expand into separate columns\n",
    "df[cols] = df['description'].str.split('|',expand=True)\n",
    "df.head()"
   ]
  },
  {
   "cell_type": "code",
   "execution_count": 20,
   "metadata": {
    "colab": {
     "base_uri": "https://localhost:8080/",
     "height": 326
    },
    "id": "Ely2WVSJVW0g",
    "outputId": "bb3d5181-cf39-4a9f-8a49-e3e2eab2d4cb"
   },
   "outputs": [
    {
     "data": {
      "text/html": [
       "<div>\n",
       "<style scoped>\n",
       "    .dataframe tbody tr th:only-of-type {\n",
       "        vertical-align: middle;\n",
       "    }\n",
       "\n",
       "    .dataframe tbody tr th {\n",
       "        vertical-align: top;\n",
       "    }\n",
       "\n",
       "    .dataframe thead th {\n",
       "        text-align: right;\n",
       "    }\n",
       "</style>\n",
       "<table border=\"1\" class=\"dataframe\">\n",
       "  <thead>\n",
       "    <tr style=\"text-align: right;\">\n",
       "      <th></th>\n",
       "      <th>description</th>\n",
       "      <th>gb</th>\n",
       "      <th>ncbiId</th>\n",
       "      <th>UniProtKB</th>\n",
       "      <th>Organism</th>\n",
       "      <th>Strain Name</th>\n",
       "      <th>Protein Name</th>\n",
       "      <th>Gene Symbol</th>\n",
       "      <th>Segment</th>\n",
       "      <th>Subtype</th>\n",
       "      <th>Host</th>\n",
       "    </tr>\n",
       "  </thead>\n",
       "  <tbody>\n",
       "    <tr>\n",
       "      <th>0</th>\n",
       "      <td>gb:K00429|ncbiId:AAR96248.1|UniProtKB:Q6LEJ4|O...</td>\n",
       "      <td>K00429</td>\n",
       "      <td>AAR96248.1</td>\n",
       "      <td>Q6LEJ4</td>\n",
       "      <td>Influenza A virus (A/seal/Mass/1/1980(H7N7))</td>\n",
       "      <td>A/seal/Mass/1/1980</td>\n",
       "      <td>HA Hemagglutinin</td>\n",
       "      <td>HA</td>\n",
       "      <td>4</td>\n",
       "      <td>H7N7</td>\n",
       "      <td>Sea Mammal</td>\n",
       "    </tr>\n",
       "    <tr>\n",
       "      <th>1</th>\n",
       "      <td>gb:J02176|ncbiId:AAA43209.1|UniProtKB:P03454|O...</td>\n",
       "      <td>J02176</td>\n",
       "      <td>AAA43209.1</td>\n",
       "      <td>03454</td>\n",
       "      <td>Influenza A virus (A/WSN/1933(H1N1))</td>\n",
       "      <td>A/WSN/1933</td>\n",
       "      <td>HA Hemagglutinin</td>\n",
       "      <td>HA</td>\n",
       "      <td>4</td>\n",
       "      <td>H1N1</td>\n",
       "      <td>uman</td>\n",
       "    </tr>\n",
       "    <tr>\n",
       "      <th>2</th>\n",
       "      <td>gb:CY021709|ncbiId:ABP49327.1|UniProtKB:A4U6V2...</td>\n",
       "      <td>CY021709</td>\n",
       "      <td>ABP49327.1</td>\n",
       "      <td>A4U6V2</td>\n",
       "      <td>Influenza A virus (A/AA/Huston/1945(H1N1))</td>\n",
       "      <td>A/AA/Huston/1945</td>\n",
       "      <td>HA Hemagglutinin</td>\n",
       "      <td>HA</td>\n",
       "      <td>4</td>\n",
       "      <td>H1N1</td>\n",
       "      <td>uman</td>\n",
       "    </tr>\n",
       "    <tr>\n",
       "      <th>3</th>\n",
       "      <td>gb:CY020285|ncbiId:ABO38054.1|UniProtKB:A4GBW6...</td>\n",
       "      <td>CY020285</td>\n",
       "      <td>ABO38054.1</td>\n",
       "      <td>A4GBW6</td>\n",
       "      <td>Influenza A virus (A/AA/Marton/1943(H1N1))</td>\n",
       "      <td>A/AA/Marton/1943</td>\n",
       "      <td>HA Hemagglutinin</td>\n",
       "      <td>HA</td>\n",
       "      <td>4</td>\n",
       "      <td>H1N1</td>\n",
       "      <td>uman</td>\n",
       "    </tr>\n",
       "    <tr>\n",
       "      <th>4</th>\n",
       "      <td>gb:CY083910|ncbiId:ADX98960.1|UniProtKB:F0TT51...</td>\n",
       "      <td>CY083910</td>\n",
       "      <td>ADX98960.1</td>\n",
       "      <td>F0TT51</td>\n",
       "      <td>Influenza A virus (A/Aalborg/INS132/2009(H1N1))</td>\n",
       "      <td>A/Aalborg/INS132/2009</td>\n",
       "      <td>HA Hemagglutinin</td>\n",
       "      <td>HA</td>\n",
       "      <td>4</td>\n",
       "      <td>H1N1</td>\n",
       "      <td>uman</td>\n",
       "    </tr>\n",
       "  </tbody>\n",
       "</table>\n",
       "</div>"
      ],
      "text/plain": [
       "                                         description        gb      ncbiId  \\\n",
       "0  gb:K00429|ncbiId:AAR96248.1|UniProtKB:Q6LEJ4|O...    K00429  AAR96248.1   \n",
       "1  gb:J02176|ncbiId:AAA43209.1|UniProtKB:P03454|O...    J02176  AAA43209.1   \n",
       "2  gb:CY021709|ncbiId:ABP49327.1|UniProtKB:A4U6V2...  CY021709  ABP49327.1   \n",
       "3  gb:CY020285|ncbiId:ABO38054.1|UniProtKB:A4GBW6...  CY020285  ABO38054.1   \n",
       "4  gb:CY083910|ncbiId:ADX98960.1|UniProtKB:F0TT51...  CY083910  ADX98960.1   \n",
       "\n",
       "  UniProtKB                                         Organism  \\\n",
       "0    Q6LEJ4     Influenza A virus (A/seal/Mass/1/1980(H7N7))   \n",
       "1     03454             Influenza A virus (A/WSN/1933(H1N1))   \n",
       "2    A4U6V2       Influenza A virus (A/AA/Huston/1945(H1N1))   \n",
       "3    A4GBW6       Influenza A virus (A/AA/Marton/1943(H1N1))   \n",
       "4    F0TT51  Influenza A virus (A/Aalborg/INS132/2009(H1N1))   \n",
       "\n",
       "             Strain Name      Protein Name Gene Symbol Segment Subtype  \\\n",
       "0     A/seal/Mass/1/1980  HA Hemagglutinin          HA       4    H7N7   \n",
       "1             A/WSN/1933  HA Hemagglutinin          HA       4    H1N1   \n",
       "2       A/AA/Huston/1945  HA Hemagglutinin          HA       4    H1N1   \n",
       "3       A/AA/Marton/1943  HA Hemagglutinin          HA       4    H1N1   \n",
       "4  A/Aalborg/INS132/2009  HA Hemagglutinin          HA       4    H1N1   \n",
       "\n",
       "         Host  \n",
       "0  Sea Mammal  \n",
       "1        uman  \n",
       "2        uman  \n",
       "3        uman  \n",
       "4        uman  "
      ]
     },
     "execution_count": 20,
     "metadata": {},
     "output_type": "execute_result"
    }
   ],
   "source": [
    "# Remove prefix from each entry in the description based on spliting at the colon :\n",
    "for c in cols:\n",
    "    df[c] = df[c].str.lstrip(c+':')\n",
    "\n",
    "df.head()"
   ]
  },
  {
   "cell_type": "markdown",
   "metadata": {
    "id": "JGB1hxLIJEpn"
   },
   "source": [
    "## Process Sequences"
   ]
  },
  {
   "cell_type": "markdown",
   "metadata": {
    "id": "eLQmGsSOWmc3"
   },
   "source": [
    "Now we can return to the sequences and take a look at an example."
   ]
  },
  {
   "cell_type": "code",
   "execution_count": 10,
   "metadata": {
    "colab": {
     "base_uri": "https://localhost:8080/"
    },
    "id": "goDNg2NHYBgX",
    "outputId": "9b273cf8-6653-41ac-d5e4-b8b052ae35cb"
   },
   "outputs": [
    {
     "data": {
      "text/plain": [
       "Seq('MNTQILVFIACVLIEAKGDKICLGHHAVANGTKVNTLTERGIEVVNATETVETA...ICI')"
      ]
     },
     "execution_count": 10,
     "metadata": {},
     "output_type": "execute_result"
    }
   ],
   "source": [
    "seqs[0]"
   ]
  },
  {
   "cell_type": "markdown",
   "metadata": {
    "id": "TkZJzfnhXEIZ"
   },
   "source": [
    "In order to begin efficiently working with these sequences, we need to convert them to an array and a numeric encoding."
   ]
  },
  {
   "cell_type": "code",
   "execution_count": 3,
   "metadata": {
    "id": "VF2U_4O2Y1wM"
   },
   "outputs": [],
   "source": [
    "AAs = [\n",
    "        'A', 'R', 'N', 'D', 'C', 'Q', 'E', 'G', 'H',\n",
    "        'I', 'L', 'K', 'M', 'F', 'P', 'S', 'T', 'W',\n",
    "        'Y', 'V', 'X', 'Z', 'J', 'U', 'B', 'Z'\n",
    "    ]\n",
    "vocabulary = { aa: idx + 1 for idx, aa in enumerate(sorted(AAs)) }\n",
    "\n",
    "seqs_pre = []\n",
    "for s in seqs:\n",
    "    seqs_pre.append(\n",
    "        [vocabulary[a] for a in s]\n",
    "    )"
   ]
  },
  {
   "cell_type": "markdown",
   "metadata": {
    "id": "Nz52URPBu1Vf"
   },
   "source": [
    "The model is ultimately trained by asking it to predict the identiy of an amino acid at position $i$ based on the sequence before $X[:i]$ or after $X[i+1:]$ it. We need a utility function to take each sequence in our dataset and split it at each possible position in order to create the training dataset. For this purpose, we are only going to train on a small fraction of the dataset so that we can keep the memory usage manageable. We will use numpy to generate a list of random indicies that we will use to randomly select a subset of our data."
   ]
  },
  {
   "cell_type": "code",
   "execution_count": 4,
   "metadata": {
    "colab": {
     "base_uri": "https://localhost:8080/"
    },
    "id": "PLjkdGsAqHqN",
    "outputId": "77eb262c-092f-4fc6-dd40-4a859fd343fd"
   },
   "outputs": [
    {
     "name": "stdout",
     "output_type": "stream",
     "text": [
      "(565017, 575, 2) (565017,)\n"
     ]
    }
   ],
   "source": [
    "def split_and_pad(seqs,seq_len):\n",
    "    '''For each seq, split at each possible amino acid position \n",
    "    into pre and post sequences'''\n",
    "\n",
    "    # Split each sequence at each possible index i\n",
    "    X_pre = [s[:i] for s in seqs for i in range(len(s))]\n",
    "    X_post = [s[i+1:] for s in seqs for i in range(len(s))]\n",
    "    y = np.array([s[i] for s in seqs for i in range(len(s))])\n",
    "\n",
    "    # Pad X_pre and X_post with pre or post padding respectively\n",
    "    X_pre = tf.keras.preprocessing.sequence.pad_sequences(\n",
    "        X_pre, maxlen=seq_len, padding='pre', truncating='pre', value=0\n",
    "    )\n",
    "    X_post = tf.keras.preprocessing.sequence.pad_sequences(\n",
    "        X_post, maxlen=seq_len, padding='post', truncating='post', value=0\n",
    "    )\n",
    "\n",
    "    # Flip X_post values\n",
    "    X_post = np.flip(X_post, 1)\n",
    "\n",
    "    # Stack X into single array\n",
    "    X = np.stack([X_pre, X_post],axis=-1)\n",
    "\n",
    "    return X, y\n",
    "\n",
    "# Generate random selection\n",
    "selector = np.random.choice(len(seqs_pre),size=1000)\n",
    "subset = [seqs_pre[i] for i in selector]\n",
    "\n",
    "X, y = split_and_pad(subset, max(length)-1)\n",
    "print(X.shape, y.shape)"
   ]
  },
  {
   "cell_type": "markdown",
   "metadata": {
    "id": "8V5KfOJF3wHm"
   },
   "source": [
    "We can now pass our data into a tf.Dataset object to facilitate training."
   ]
  },
  {
   "cell_type": "code",
   "execution_count": 5,
   "metadata": {
    "id": "rbkNaUCFNLYH"
   },
   "outputs": [],
   "source": [
    "dataset = tf.data.Dataset.from_tensor_slices(((X[...,0],X[...,1]),y))"
   ]
  },
  {
   "cell_type": "markdown",
   "metadata": {
    "id": "WrvYoVVdVT6H"
   },
   "source": [
    "If we look at a single `take` from the dataset, we can see a padded sequence with numeric encoding."
   ]
  },
  {
   "cell_type": "code",
   "execution_count": 14,
   "metadata": {
    "colab": {
     "base_uri": "https://localhost:8080/"
    },
    "id": "QcWt1UKtN-N5",
    "outputId": "c7a7750d-a3b9-468c-a573-ce1842bc8c19"
   },
   "outputs": [
    {
     "name": "stdout",
     "output_type": "stream",
     "text": [
      "((<tf.Tensor: shape=(575,), dtype=int32, numpy=\n",
      "array([0, 0, 0, 0, 0, 0, 0, 0, 0, 0, 0, 0, 0, 0, 0, 0, 0, 0, 0, 0, 0, 0,\n",
      "       0, 0, 0, 0, 0, 0, 0, 0, 0, 0, 0, 0, 0, 0, 0, 0, 0, 0, 0, 0, 0, 0,\n",
      "       0, 0, 0, 0, 0, 0, 0, 0, 0, 0, 0, 0, 0, 0, 0, 0, 0, 0, 0, 0, 0, 0,\n",
      "       0, 0, 0, 0, 0, 0, 0, 0, 0, 0, 0, 0, 0, 0, 0, 0, 0, 0, 0, 0, 0, 0,\n",
      "       0, 0, 0, 0, 0, 0, 0, 0, 0, 0, 0, 0, 0, 0, 0, 0, 0, 0, 0, 0, 0, 0,\n",
      "       0, 0, 0, 0, 0, 0, 0, 0, 0, 0, 0, 0, 0, 0, 0, 0, 0, 0, 0, 0, 0, 0,\n",
      "       0, 0, 0, 0, 0, 0, 0, 0, 0, 0, 0, 0, 0, 0, 0, 0, 0, 0, 0, 0, 0, 0,\n",
      "       0, 0, 0, 0, 0, 0, 0, 0, 0, 0, 0, 0, 0, 0, 0, 0, 0, 0, 0, 0, 0, 0,\n",
      "       0, 0, 0, 0, 0, 0, 0, 0, 0, 0, 0, 0, 0, 0, 0, 0, 0, 0, 0, 0, 0, 0,\n",
      "       0, 0, 0, 0, 0, 0, 0, 0, 0, 0, 0, 0, 0, 0, 0, 0, 0, 0, 0, 0, 0, 0,\n",
      "       0, 0, 0, 0, 0, 0, 0, 0, 0, 0, 0, 0, 0, 0, 0, 0, 0, 0, 0, 0, 0, 0,\n",
      "       0, 0, 0, 0, 0, 0, 0, 0, 0, 0, 0, 0, 0, 0, 0, 0, 0, 0, 0, 0, 0, 0,\n",
      "       0, 0, 0, 0, 0, 0, 0, 0, 0, 0, 0, 0, 0, 0, 0, 0, 0, 0, 0, 0, 0, 0,\n",
      "       0, 0, 0, 0, 0, 0, 0, 0, 0, 0, 0, 0, 0, 0, 0, 0, 0, 0, 0, 0, 0, 0,\n",
      "       0, 0, 0, 0, 0, 0, 0, 0, 0, 0, 0, 0, 0, 0, 0, 0, 0, 0, 0, 0, 0, 0,\n",
      "       0, 0, 0, 0, 0, 0, 0, 0, 0, 0, 0, 0, 0, 0, 0, 0, 0, 0, 0, 0, 0, 0,\n",
      "       0, 0, 0, 0, 0, 0, 0, 0, 0, 0, 0, 0, 0, 0, 0, 0, 0, 0, 0, 0, 0, 0,\n",
      "       0, 0, 0, 0, 0, 0, 0, 0, 0, 0, 0, 0, 0, 0, 0, 0, 0, 0, 0, 0, 0, 0,\n",
      "       0, 0, 0, 0, 0, 0, 0, 0, 0, 0, 0, 0, 0, 0, 0, 0, 0, 0, 0, 0, 0, 0,\n",
      "       0, 0, 0, 0, 0, 0, 0, 0, 0, 0, 0, 0, 0, 0, 0, 0, 0, 0, 0, 0, 0, 0,\n",
      "       0, 0, 0, 0, 0, 0, 0, 0, 0, 0, 0, 0, 0, 0, 0, 0, 0, 0, 0, 0, 0, 0,\n",
      "       0, 0, 0, 0, 0, 0, 0, 0, 0, 0, 0, 0, 0, 0, 0, 0, 0, 0, 0, 0, 0, 0,\n",
      "       0, 0, 0, 0, 0, 0, 0, 0, 0, 0, 0, 0, 0, 0, 0, 0, 0, 0, 0, 0, 0, 0,\n",
      "       0, 0, 0, 0, 0, 0, 0, 0, 0, 0, 0, 0, 0, 0, 0, 0, 0, 0, 0, 0, 0, 0,\n",
      "       0, 0, 0, 0, 0, 0, 0, 0, 0, 0, 0, 0, 0, 0, 0, 0, 0, 0, 0, 0, 0, 0,\n",
      "       0, 0, 0, 0, 0, 0, 0, 0, 0, 0, 0, 0, 0, 0, 0, 0, 0, 0, 0, 0, 0, 0,\n",
      "       0, 0, 0], dtype=int32)>, <tf.Tensor: shape=(575,), dtype=int32, numpy=\n",
      "array([ 0,  0,  0,  0,  0,  0,  0,  0,  0,  9,  3,  9, 17,  3, 16, 12, 18,\n",
      "        7, 14, 18,  3, 13, 22, 12, 18, 12,  7,  1, 13, 13,  9,  1, 12, 21,\n",
      "       12, 18, 18,  1, 21, 19, 18, 24,  9, 18, 12,  9, 16, 24,  9,  7,  9,\n",
      "       18,  5, 12, 11, 21,  7, 18,  9,  5,  5, 17, 11, 12, 17,  1,  5,  5,\n",
      "       18, 24, 16, 15, 24,  4, 24, 19,  7, 14, 17, 21, 18,  5, 13,  3,  5,\n",
      "       14, 14,  3, 11,  8, 24,  6,  5,  6,  3,  7, 14,  7, 12,  5, 11,  1,\n",
      "       14,  4, 11, 12, 16, 12, 17, 21, 11,  4, 24, 12, 14, 17, 21, 14, 18,\n",
      "        4,  8,  6,  4, 12, 19, 17,  5, 14,  5, 13, 12, 21, 12, 12,  5,  1,\n",
      "       14, 24, 19, 22, 21,  4, 12,  6,  7,  4,  5, 13, 11, 11, 14, 12, 14,\n",
      "        5,  9, 17, 17,  5, 12, 14, 14,  6,  5, 17,  7, 21,  1,  5,  6, 16,\n",
      "       19, 14, 13, 11,  4,  9,  9, 18, 14, 21, 11, 14, 19, 21,  7,  4,  9,\n",
      "        1, 11, 16, 19, 18,  5, 11,  4,  1,  1, 24,  7, 18,  7, 16,  5, 14,\n",
      "       18,  8,  8, 24,  7,  6, 22,  7,  4, 21, 13,  7, 16, 22,  7,  7,  5,\n",
      "        9,  6,  7,  1,  9,  1,  7,  6, 12,  7, 17, 11, 17, 17, 17,  5, 17,\n",
      "       16, 15, 18, 14, 17, 12,  7, 19,  1, 12, 21, 12, 11, 14, 18, 11, 21,\n",
      "       24, 11, 15,  3,  5,  7,  9, 19, 12, 15,  8,  9, 14,  8,  6, 15, 13,\n",
      "       18, 18, 14,  9,  1,  7,  9, 15, 19, 16,  3, 17, 19, 14,  3, 14,  7,\n",
      "       24,  5, 21,  5, 18, 11, 13,  9, 19, 18,  4,  7, 11, 11, 21,  9, 11,\n",
      "       24,  1, 24,  5, 15,  1,  9,  6, 14,  7, 14, 18,  5,  6,  8,  9,  1,\n",
      "        4, 14, 15, 11, 12,  9, 19, 22,  6,  6,  4,  9, 17,  7, 18, 16,  7,\n",
      "       14,  9, 11, 18, 17, 19,  1,  9, 11, 15, 21, 12, 17, 16, 14, 12, 19,\n",
      "       18, 19,  7,  9, 18,  9, 24, 19, 19, 15, 14, 16, 24, 12, 11, 19, 16,\n",
      "        5,  1,  5,  4, 14, 15,  8,  8,  9,  7, 22, 12, 21, 12, 12,  4,  5,\n",
      "       16, 14, 19, 14, 14, 24,  7, 11, 11,  9, 19, 15, 24,  1, 14,  4, 11,\n",
      "       11,  9, 12, 22, 21, 21, 14, 17,  6,  6, 18, 18, 14,  7, 16, 24, 15,\n",
      "        3,  1,  1, 18, 21,  7, 12, 18,  1,  5,  8,  4, 18, 22, 18,  4, 11,\n",
      "       15,  9,  9, 16,  9, 11,  5,  6,  8, 14,  9, 17, 18, 12, 12,  8, 11,\n",
      "       12,  5,  5, 24,  4, 14,  6, 14,  7, 15, 24,  3, 12,  4, 14,  1, 15,\n",
      "       14,  1, 11,  5, 21,  9, 24, 18, 22,  5, 15, 21, 14,  9,  6,  5,  4,\n",
      "        3, 13, 15, 14,  7, 12, 12, 22,  7,  1, 21, 18,  3,  4, 11, 12,  9,\n",
      "       12, 15, 11, 21,  7, 14, 12,  4,  3, 12, 11,  7, 14,  8, 19, 11,  5,\n",
      "       12,  9,  4, 16,  1,  8, 19, 21, 19, 21, 14, 11,  5, 13,  9, 19,  4,\n",
      "       21, 16,  5, 19, 18, 14, 14,  1,  8, 24,  7,  9,  3,  9,  8,  4, 18,\n",
      "       11, 21, 12, 18,  9, 19,  1,  6, 12, 12, 21,  9, 11,  5],\n",
      "      dtype=int32)>), <tf.Tensor: shape=(), dtype=int64, numpy=13>)\n"
     ]
    }
   ],
   "source": [
    "for i in dataset.take(1):\n",
    "    print(i)"
   ]
  },
  {
   "cell_type": "markdown",
   "metadata": {
    "id": "mSX5bSMwQhHU"
   },
   "source": [
    "## Build Model\n",
    "In the paper, they test a several model architectures and a variety of hyperparameters before ultimately selecting a BiLSTM architecture with two hidden layers of 512 units each. The model receives sequence context for before and after the missing amino acid."
   ]
  },
  {
   "cell_type": "code",
   "execution_count": 6,
   "metadata": {
    "id": "6b7TonTmQkXf"
   },
   "outputs": [],
   "source": [
    "from tensorflow.keras import Input\n",
    "from tensorflow.keras import layers\n",
    "from tensorflow.keras.models import Model\n",
    "\n",
    "def BiLSTM(seq_len, \n",
    "           vocab_size,\n",
    "           embedding_dim=20,\n",
    "           hidden_dim=256,\n",
    "           n_hidden=2):\n",
    "\n",
    "    # Define input layers\n",
    "    input_pre = Input(shape=(seq_len,))\n",
    "    input_post = Input(shape=(seq_len,))\n",
    "\n",
    "    # Generate embedding layer and run both inputs through\n",
    "    embed = layers.Embedding(vocab_size, embedding_dim, input_length=seq_len)\n",
    "    xpre = embed(input_pre)\n",
    "    xpost = embed(input_post)\n",
    "\n",
    "    # Generate an lstm layer for each hidden dimension\n",
    "    for _ in range(n_hidden-1):\n",
    "        lstm = layers.LSTM(hidden_dim, return_sequences=True)\n",
    "        xpre = lstm(xpre)\n",
    "        xpost = lstm(xpost)\n",
    "\n",
    "    # Define final LSTM layer\n",
    "    lstm = layers.LSTM(hidden_dim)\n",
    "    xpre = lstm(xpre)\n",
    "    xpost = lstm(xpost)\n",
    "\n",
    "    # Concatenate pre and post before sending to dense\n",
    "    x = layers.concatenate([xpre, xpost], name='embed_layer')\n",
    "    x = layers.Dense(vocab_size)(x)\n",
    "    output = layers.Activation('softmax')(x)\n",
    "\n",
    "    bilstm = Model(inputs=[input_pre, input_post], outputs=output)\n",
    "\n",
    "    return bilstm\n",
    "\n",
    "model = BiLSTM(X.shape[1],len(vocabulary))"
   ]
  },
  {
   "cell_type": "code",
   "execution_count": 7,
   "metadata": {
    "colab": {
     "base_uri": "https://localhost:8080/"
    },
    "id": "6WXnNeB449Te",
    "outputId": "fdb00470-2413-41bc-9f45-e70a9866a08b"
   },
   "outputs": [
    {
     "name": "stdout",
     "output_type": "stream",
     "text": [
      "Model: \"model\"\n",
      "__________________________________________________________________________________________________\n",
      "Layer (type)                    Output Shape         Param #     Connected to                     \n",
      "==================================================================================================\n",
      "input_1 (InputLayer)            [(None, 575)]        0                                            \n",
      "__________________________________________________________________________________________________\n",
      "input_2 (InputLayer)            [(None, 575)]        0                                            \n",
      "__________________________________________________________________________________________________\n",
      "embedding (Embedding)           (None, 575, 20)      500         input_1[0][0]                    \n",
      "                                                                 input_2[0][0]                    \n",
      "__________________________________________________________________________________________________\n",
      "lstm (LSTM)                     (None, 575, 256)     283648      embedding[0][0]                  \n",
      "                                                                 embedding[1][0]                  \n",
      "__________________________________________________________________________________________________\n",
      "lstm_1 (LSTM)                   (None, 256)          525312      lstm[0][0]                       \n",
      "                                                                 lstm[1][0]                       \n",
      "__________________________________________________________________________________________________\n",
      "embed_layer (Concatenate)       (None, 512)          0           lstm_1[0][0]                     \n",
      "                                                                 lstm_1[1][0]                     \n",
      "__________________________________________________________________________________________________\n",
      "dense (Dense)                   (None, 25)           12825       embed_layer[0][0]                \n",
      "__________________________________________________________________________________________________\n",
      "activation (Activation)         (None, 25)           0           dense[0][0]                      \n",
      "==================================================================================================\n",
      "Total params: 822,285\n",
      "Trainable params: 822,285\n",
      "Non-trainable params: 0\n",
      "__________________________________________________________________________________________________\n"
     ]
    }
   ],
   "source": [
    "model.summary()"
   ]
  },
  {
   "cell_type": "code",
   "execution_count": 8,
   "metadata": {
    "id": "uc3j_S5X5DYw"
   },
   "outputs": [],
   "source": [
    "from tensorflow.keras.optimizers import Adam\n",
    "\n",
    "n_epochs = 6\n",
    "batch_size = 100\n",
    "\n",
    "optimizer = Adam(learning_rate=0.001, beta_1=0.9, beta_2=0.999, amsgrad=False)\n",
    "model.compile(loss='sparse_categorical_crossentropy',\n",
    "              optimizer=optimizer,\n",
    "              metrics=['accuracy'])\n",
    "\n",
    "MODEL_PATH = 'flu-sequence-20210330-epoch{epoch:02d}.h5'"
   ]
  },
  {
   "cell_type": "code",
   "execution_count": null,
   "metadata": {
    "colab": {
     "base_uri": "https://localhost:8080/"
    },
    "id": "3DLUQ1ta693V",
    "outputId": "48868d8c-4419-434f-9a75-6aa5d11d7fa0"
   },
   "outputs": [
    {
     "name": "stdout",
     "output_type": "stream",
     "text": [
      "Epoch 1/6\n",
      "1307/5652 [=====>........................] - ETA: 11:20:56 - loss: 2.7632 - accuracy: 0.1359"
     ]
    }
   ],
   "source": [
    "model.fit(dataset.shuffle(2000).batch(batch_size),\n",
    "          epochs=n_epochs,\n",
    "          callbacks=[tf.keras.callbacks.ModelCheckpoint(\n",
    "            MODEL_PATH,\n",
    "            monitor='accuracy',\n",
    "            verbose=1,\n",
    "            save_best_only=True)])"
   ]
  },
  {
   "cell_type": "markdown",
   "metadata": {
    "id": "pTa6osAUMmdi"
   },
   "source": [
    "The model was ultimately trained for 6 epochs to get started on the training process."
   ]
  },
  {
   "cell_type": "markdown",
   "metadata": {
    "id": "Y5uAPBYeO3S9"
   },
   "source": [
    "## Sample Embeddings\n",
    "We are now ready to use hidden layer to extract the semantic embeddings of sequences."
   ]
  },
  {
   "cell_type": "code",
   "execution_count": null,
   "metadata": {
    "colab": {
     "base_uri": "https://localhost:8080/"
    },
    "id": "nWYV0SKDPHQi",
    "outputId": "9743ec0b-1e03-44f5-c564-b37e9b3b9d8c",
    "tags": [
     "hide-cell"
    ]
   },
   "outputs": [],
   "source": [
    "# Download weights file from bucket\n",
    "!wget https://storage.googleapis.com/datasets-spring2021/flu-sequence-20210330-epoch2-04.h5"
   ]
  },
  {
   "cell_type": "code",
   "execution_count": 9,
   "metadata": {
    "id": "3yNHEObFO4rc",
    "tags": [
     "hide-cell"
    ]
   },
   "outputs": [],
   "source": [
    "model.load_weights('flu-sequence-20210330-epoch2-04.h5')"
   ]
  },
  {
   "cell_type": "code",
   "execution_count": 10,
   "metadata": {},
   "outputs": [
    {
     "name": "stdout",
     "output_type": "stream",
     "text": [
      ".................................................................................................................."
     ]
    },
    {
     "data": {
      "text/plain": [
       "(565017, 512)"
      ]
     },
     "execution_count": 10,
     "metadata": {},
     "output_type": "execute_result"
    }
   ],
   "source": [
    "# Retrieve hidden layer to use for the embedding\n",
    "hidden = tf.keras.backend.function(\n",
    "    inputs=model.input,\n",
    "    outputs=model.get_layer('embed_layer').output\n",
    ")\n",
    "\n",
    "# Run predictions in batches to manage memory\n",
    "x_embed_list = []\n",
    "for i in range(0,X.shape[0],5000):\n",
    "    print(\".\", end=\"\")\n",
    "    end = min(i+5000, X.shape[0])\n",
    "    x_embed_list.append(hidden([X[i:end,:,0],X[i:end,:,0]]))\n",
    "x_embed_cat = np.concatenate(x_embed_list)\n",
    "x_embed_cat.shape"
   ]
  },
  {
   "cell_type": "markdown",
   "metadata": {},
   "source": [
    "Currently the first axis is representative of all sequences concatenated together. We can reshape to introduce the sample axis."
   ]
  },
  {
   "cell_type": "code",
   "execution_count": 11,
   "metadata": {},
   "outputs": [
    {
     "data": {
      "text/plain": [
       "(982, 575, 512)"
      ]
     },
     "execution_count": 11,
     "metadata": {},
     "output_type": "execute_result"
    }
   ],
   "source": [
    "x_embed = np.stack([\n",
    "    x_embed_cat[i:i+575]\n",
    "    for i in range(0,(X.shape[0]//575)*575,575)\n",
    "])\n",
    "x_embed.shape"
   ]
  },
  {
   "cell_type": "markdown",
   "metadata": {},
   "source": [
    "Finally, we take find the average value of the sequence for each of the 512 dimensions in the last axis."
   ]
  },
  {
   "cell_type": "code",
   "execution_count": 12,
   "metadata": {},
   "outputs": [
    {
     "data": {
      "text/plain": [
       "(982, 512)"
      ]
     },
     "execution_count": 12,
     "metadata": {},
     "output_type": "execute_result"
    }
   ],
   "source": [
    "xmean = x_embed.mean(1)\n",
    "xmean.shape"
   ]
  },
  {
   "cell_type": "code",
   "execution_count": 13,
   "metadata": {
    "tags": [
     "hide-cell"
    ]
   },
   "outputs": [],
   "source": [
    "np.savez_compressed('xmean.npz',xmean=xmean)"
   ]
  },
  {
   "cell_type": "markdown",
   "metadata": {},
   "source": [
    "The paper elects to use the UMAP algorithm to reduce the data from 512 dimensions to 2 which can be easily visualized. We will use the [python package](https://github.com/lmcinnes/umap) that was published with the original paper."
   ]
  },
  {
   "cell_type": "code",
   "execution_count": 14,
   "metadata": {},
   "outputs": [
    {
     "data": {
      "text/plain": [
       "(982, 2)"
      ]
     },
     "execution_count": 14,
     "metadata": {},
     "output_type": "execute_result"
    }
   ],
   "source": [
    "reducer = umap.UMAP()\n",
    "embedding = reducer.fit_transform(xmean)\n",
    "embedding.shape"
   ]
  },
  {
   "cell_type": "markdown",
   "metadata": {},
   "source": [
    "In order to produce visualizations that we can begin to interpret, we will link our embeddings back to the original metadata that we collected about each sequence."
   ]
  },
  {
   "cell_type": "code",
   "execution_count": 22,
   "metadata": {
    "tags": [
     "remove-output"
    ]
   },
   "outputs": [
    {
     "name": "stderr",
     "output_type": "stream",
     "text": [
      "<ipython-input-22-de86a6874aaa>:2: SettingWithCopyWarning: \n",
      "A value is trying to be set on a copy of a slice from a DataFrame.\n",
      "Try using .loc[row_indexer,col_indexer] = value instead\n",
      "\n",
      "See the caveats in the documentation: https://pandas.pydata.org/pandas-docs/stable/user_guide/indexing.html#returning-a-view-versus-a-copy\n",
      "  df_embed['embed_0'] = embedding[:,0]\n",
      "<ipython-input-22-de86a6874aaa>:3: SettingWithCopyWarning: \n",
      "A value is trying to be set on a copy of a slice from a DataFrame.\n",
      "Try using .loc[row_indexer,col_indexer] = value instead\n",
      "\n",
      "See the caveats in the documentation: https://pandas.pydata.org/pandas-docs/stable/user_guide/indexing.html#returning-a-view-versus-a-copy\n",
      "  df_embed['embed_1'] = embedding[:,1]\n"
     ]
    }
   ],
   "source": [
    "df_embed = df.iloc[:982]\n",
    "df_embed['embed_0'] = embedding[:,0]\n",
    "df_embed['embed_1'] = embedding[:,1]"
   ]
  },
  {
   "cell_type": "markdown",
   "metadata": {},
   "source": [
    "For an initial visualization, we will plot each sequence and color code according to the viral subtype."
   ]
  },
  {
   "cell_type": "code",
   "execution_count": 23,
   "metadata": {},
   "outputs": [
    {
     "data": {
      "text/plain": [
       "<matplotlib.legend.Legend at 0x2ab7b3da8e20>"
      ]
     },
     "execution_count": 23,
     "metadata": {},
     "output_type": "execute_result"
    },
    {
     "data": {
      "image/png": "[encoded data removed]",
      "text/plain": [
       "<Figure size 432x288 with 1 Axes>"
      ]
     },
     "metadata": {
      "needs_background": "light"
     },
     "output_type": "display_data"
    }
   ],
   "source": [
    "fig,ax = plt.subplots()\n",
    "for i,cat in enumerate(df_embed['Subtype'].unique()):\n",
    "    indx = df_embed['Subtype'] == cat\n",
    "    ax.scatter(df_embed['embed_0'].loc[indx],df_embed['embed_1'].loc[indx],label=cat)\n",
    "    \n",
    "ax.legend(bbox_to_anchor=(1.05, 1), loc='upper left', borderaxespad=0.)"
   ]
  },
  {
   "cell_type": "code",
   "execution_count": null,
   "metadata": {},
   "outputs": [],
   "source": []
  }
 ],
 "metadata": {
  "colab": {
   "collapsed_sections": [
    "wcZxL9NEJAyv"
   ],
   "name": "sequence-model.ipynb",
   "provenance": [],
   "toc_visible": true
  },
  "kernelspec": {
   "display_name": "Python [conda env:bebi205]",
   "language": "python",
   "name": "conda-env-bebi205-py"
  },
  "language_info": {
   "codemirror_mode": {
    "name": "ipython",
    "version": 3
   },
   "file_extension": ".py",
   "mimetype": "text/x-python",
   "name": "python",
   "nbconvert_exporter": "python",
   "pygments_lexer": "ipython3",
   "version": "3.7.9"
  }
 },
 "nbformat": 4,
 "nbformat_minor": 4
}
