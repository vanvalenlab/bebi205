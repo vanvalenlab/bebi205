{
 "cells": [
  {
   "cell_type": "code",
   "execution_count": 110,
   "id": "0aeeaa40-8971-4f37-838b-5c544d796159",
   "metadata": {},
   "outputs": [],
   "source": [
    "cp names.txt tmp.txt"
   ]
  },
  {
   "cell_type": "code",
   "execution_count": 142,
   "id": "12635071-2b47-4836-ba98-17e1c8eb7455",
   "metadata": {},
   "outputs": [
    {
     "name": "stdout",
     "output_type": "stream",
     "text": [
      "  % Total    % Received % Xferd  Average Speed   Time    Time     Time  Current\n",
      "                                 Dload  Upload   Total   Spent    Left  Speed\n",
      "100 20466  100 20466    0     0  45102      0 --:--:-- --:--:-- --:--:-- 45683\n",
      "  % Total    % Received % Xferd  Average Speed   Time    Time     Time  Current\n",
      "                                 Dload  Upload   Total   Spent    Left  Speed\n",
      "100 35751  100 35751    0     0  78821      0 --:--:-- --:--:-- --:--:-- 79979\n"
     ]
    }
   ],
   "source": [
    "!curl -O https://www.cs.cmu.edu/afs/cs/project/ai-repository/ai/areas/nlp/corpora/names/male.txt\n",
    "!curl -O https://www.cs.cmu.edu/Groups/AI/areas/nlp/corpora/names/female.txt"
   ]
  },
  {
   "cell_type": "code",
   "execution_count": 119,
   "id": "37c8746f-fd87-439b-b9ee-b2815b70605d",
   "metadata": {},
   "outputs": [],
   "source": [
    "import torch\n",
    "import torch.nn.functional as F\n",
    "import torch.nn as nn\n",
    "\n",
    "import matplotlib.pyplot as plt\n",
    "from sklearn.decomposition import  PCA\n",
    "from sklearn.manifold import TSNE\n",
    "import numpy as np\n",
    "import random"
   ]
  },
  {
   "cell_type": "code",
   "execution_count": 154,
   "id": "bf48b973-444f-4723-b862-6e1be7c4325b",
   "metadata": {},
   "outputs": [],
   "source": [
    "words = open(\"male.txt\", \"r\").read().splitlines()[6:] + open(\"female.txt\", \"r\").read().splitlines()[6:]\n",
    "words = [w.lower() for w in words]\n",
    "random.shuffle(words)"
   ]
  },
  {
   "cell_type": "code",
   "execution_count": 155,
   "id": "32da3d4f-f16e-48b5-b253-7ee278faa084",
   "metadata": {},
   "outputs": [
    {
     "name": "stdout",
     "output_type": "stream",
     "text": [
      "{1: ' ', 2: \"'\", 3: '-', 4: 'a', 5: 'b', 6: 'c', 7: 'd', 8: 'e', 9: 'f', 10: 'g', 11: 'h', 12: 'i', 13: 'j', 14: 'k', 15: 'l', 16: 'm', 17: 'n', 18: 'o', 19: 'p', 20: 'q', 21: 'r', 22: 's', 23: 't', 24: 'u', 25: 'v', 26: 'w', 27: 'x', 28: 'y', 29: 'z', 0: '.'}\n"
     ]
    }
   ],
   "source": [
    "chars = sorted(list(set(\"\".join(words))))\n",
    "stoi = {s:i+1 for i,s in enumerate(chars)}\n",
    "stoi['.'] = 0\n",
    "itos = {i:s for s,i in stoi.items()}\n",
    "print(itos)"
   ]
  },
  {
   "cell_type": "code",
   "execution_count": 156,
   "id": "bc49fd29-cd2e-4128-b32d-a023902a5ccb",
   "metadata": {},
   "outputs": [],
   "source": [
    "context_length = 5"
   ]
  },
  {
   "cell_type": "code",
   "execution_count": 157,
   "id": "6f35d6bf-34c7-4392-83b5-56790ddbe2ab",
   "metadata": {},
   "outputs": [],
   "source": [
    "def make_dataset(words):\n",
    "    X, y = [], []\n",
    "    for w in words:\n",
    "        context = [0] * context_length\n",
    "        for ch in w + \".\":\n",
    "            X.append(context)\n",
    "            y.append(stoi[ch])\n",
    "            context = context[1:] + [stoi[ch]]\n",
    "    X, y = torch.tensor(X), torch.tensor(y)\n",
    "    return X, y"
   ]
  },
  {
   "cell_type": "code",
   "execution_count": 158,
   "id": "9faca060-17f0-4aee-9a37-9ebaabded87e",
   "metadata": {},
   "outputs": [],
   "source": [
    "trl = len(words)\n",
    "Xtr, ytr = make_dataset(words[:int(0.9*trl)])\n",
    "Xte, yte = make_dataset(words[int(.9*trl):int(.95*trl)])\n",
    "Xdev, ydev = make_dataset(words[int(0.95*trl):])"
   ]
  },
  {
   "cell_type": "code",
   "execution_count": 159,
   "id": "2dd53e47-6034-4c2e-b458-d21cc40425f6",
   "metadata": {},
   "outputs": [],
   "source": [
    "class Model1(nn.Module):\n",
    "    def __init__(self, embd_dim):\n",
    "        super().__init__()\n",
    "        self.inp_dim = embd_dim * context_length\n",
    "        self.C = nn.Embedding(len(itos), embd_dim)\n",
    "        \n",
    "        self.fc1 = nn.Linear(self.inp_dim, 4 * self.inp_dim)\n",
    "        self.gelu = nn.GELU()\n",
    "        self.fc2 = nn.Linear(4 * self.inp_dim, self.inp_dim)\n",
    "        self.fc3 = nn.Linear(self.inp_dim, len(itos))\n",
    "        \n",
    "    def forward(self, ix):\n",
    "        x = self.C(ix).view(-1, self.inp_dim) # 16 * 5\n",
    "        \n",
    "        h = self.fc1(x)\n",
    "        h = self.gelu(h)\n",
    "        h = self.fc2(h)\n",
    "        h = self.gelu(h)\n",
    "        h = self.fc3(h)\n",
    "        return h"
   ]
  },
  {
   "cell_type": "code",
   "execution_count": 160,
   "id": "49f87eff-a305-46f7-a481-28090746d97f",
   "metadata": {},
   "outputs": [],
   "source": [
    "model = Model1(16)"
   ]
  },
  {
   "cell_type": "code",
   "execution_count": 162,
   "id": "07f9a0c4-fec9-4a7f-a6df-dc25a0058cfd",
   "metadata": {},
   "outputs": [
    {
     "name": "stdout",
     "output_type": "stream",
     "text": [
      "step=0, loss=tensor(3.4073, grad_fn=<NllLossBackward0>)\n",
      "step=1000, loss=tensor(2.4242, grad_fn=<NllLossBackward0>)\n",
      "step=2000, loss=tensor(2.2807, grad_fn=<NllLossBackward0>)\n",
      "step=3000, loss=tensor(2.3495, grad_fn=<NllLossBackward0>)\n",
      "step=4000, loss=tensor(2.4600, grad_fn=<NllLossBackward0>)\n",
      "step=5000, loss=tensor(1.7362, grad_fn=<NllLossBackward0>)\n",
      "step=6000, loss=tensor(2.1351, grad_fn=<NllLossBackward0>)\n",
      "step=7000, loss=tensor(2.0929, grad_fn=<NllLossBackward0>)\n",
      "step=8000, loss=tensor(2.4725, grad_fn=<NllLossBackward0>)\n",
      "step=9000, loss=tensor(2.2073, grad_fn=<NllLossBackward0>)\n"
     ]
    }
   ],
   "source": [
    "# Training loop\n",
    "model.train()\n",
    "optimizer = torch.optim.Adam(model.parameters(), lr=1e-4)\n",
    "losses = []\n",
    "\n",
    "for step in range(10000):\n",
    "    optimizer.zero_grad()\n",
    "    ix = torch.randint(0, Xtr.shape[0], (32,))\n",
    "    logits = model(Xtr[ix])\n",
    "    loss = F.cross_entropy(logits, ytr[ix])\n",
    "    losses.append(loss.item())\n",
    "    loss.backward()\n",
    "    optimizer.step()\n",
    "    \n",
    "    if step % 1000 == 0:\n",
    "        print(f\"{step=}, {loss=}\")"
   ]
  },
  {
   "cell_type": "code",
   "execution_count": 163,
   "id": "66eed82f-9139-4466-a022-5b99085fceff",
   "metadata": {},
   "outputs": [],
   "source": [
    "# Visualization"
   ]
  },
  {
   "cell_type": "code",
   "execution_count": 164,
   "id": "07374316-1df5-4bdc-80f5-4823f26ec07f",
   "metadata": {},
   "outputs": [],
   "source": [
    "weight = next(model.named_parameters())[1].detach().numpy()"
   ]
  },
  {
   "cell_type": "code",
   "execution_count": 165,
   "id": "9ba56625-bd4e-44af-9a27-dfa8c81486c0",
   "metadata": {},
   "outputs": [],
   "source": [
    "norm = np.linalg.norm(weight, axis=1)\n",
    "norm_matrix = norm[:, None] * norm[None, :]\n",
    "cosin_distance = (weight @ weight.T) / norm_matrix"
   ]
  },
  {
   "cell_type": "code",
   "execution_count": 166,
   "id": "2b09d19c-6278-4d03-bbbb-5ab247f131ac",
   "metadata": {},
   "outputs": [
    {
     "data": {
      "image/png": "[encoded data removed]",
      "text/plain": [
       "<Figure size 720x720 with 2 Axes>"
      ]
     },
     "metadata": {
      "needs_background": "light"
     },
     "output_type": "display_data"
    }
   ],
   "source": [
    "plt.figure(figsize=(10,10))\n",
    "plt.imshow(cosin_distance, cmap=\"Blues\")\n",
    "plt.colorbar()\n",
    "plt.xticks(np.arange(len(itos)), labels=list(itos.values()));\n",
    "plt.yticks(np.arange(len(itos)), labels=list(itos.values()));"
   ]
  },
  {
   "cell_type": "code",
   "execution_count": 167,
   "id": "077a6d31-708f-407e-95e1-cdc3fc7a700d",
   "metadata": {},
   "outputs": [],
   "source": [
    "pca = PCA(n_components=2)\n",
    "vis = pca.fit_transform(weight)"
   ]
  },
  {
   "cell_type": "code",
   "execution_count": 170,
   "id": "fa392abe-0619-47d4-bca7-53cdfb5c1a7d",
   "metadata": {},
   "outputs": [
    {
     "data": {
      "image/png": "[encoded data removed]",
      "text/plain": [
       "<Figure size 720x720 with 1 Axes>"
      ]
     },
     "metadata": {
      "needs_background": "light"
     },
     "output_type": "display_data"
    }
   ],
   "source": [
    "plt.figure(figsize=(10,10))\n",
    "plt.scatter(vis[:, 0], vis[:, 1], s=150, alpha=0.4)\n",
    "plt.grid(True)\n",
    "for ix, char in itos.items():\n",
    "    plt.annotate(char, vis[ix], fontsize=16)"
   ]
  },
  {
   "cell_type": "code",
   "execution_count": 169,
   "id": "99451f7c-c134-4c32-9067-ff411e1fbc3a",
   "metadata": {},
   "outputs": [],
   "source": [
    "C = next(model.named_parameters())[1].detach()"
   ]
  },
  {
   "cell_type": "code",
   "execution_count": 171,
   "id": "aa05978f-2e2f-42a7-829b-e24bca8e6e16",
   "metadata": {},
   "outputs": [
    {
     "name": "stdout",
     "output_type": "stream",
     "text": [
      "mader.\n",
      "eytonne.\n",
      "digem.\n",
      "eda.\n",
      "mobin.\n",
      "emni.\n",
      "ilal.\n",
      "cowlie.\n",
      "aisso.\n",
      "panto.\n",
      "heva.\n",
      "paoda.\n",
      "seled.\n",
      "delista.\n",
      "hadetipi.\n",
      "hennirkse.\n",
      "karisa.\n",
      "andait.\n",
      "merttanea.\n",
      "gestpa.\n"
     ]
    }
   ],
   "source": [
    "# Sample\n",
    "\n",
    "for _ in range(20):\n",
    "    out = []\n",
    "    context = [0] * context_length\n",
    "    while True:\n",
    "        logits = model(torch.tensor([context]))\n",
    "        probs = F.softmax(logits, dim=1)\n",
    "        ix = torch.multinomial(probs, num_samples=1).item()\n",
    "        context = context[1:] + [ix]\n",
    "        out.append(ix)\n",
    "        if ix == 0:\n",
    "            break\n",
    "    print(''.join(itos[i] for i in out))"
   ]
  }
 ],
 "metadata": {
  "kernelspec": {
   "display_name": "Python 3 (ipykernel)",
   "language": "python",
   "name": "python3"
  },
  "language_info": {
   "codemirror_mode": {
    "name": "ipython",
    "version": 3
   },
   "file_extension": ".py",
   "mimetype": "text/x-python",
   "name": "python",
   "nbconvert_exporter": "python",
   "pygments_lexer": "ipython3",
   "version": "3.9.7"
  }
 },
 "nbformat": 4,
 "nbformat_minor": 5
}
