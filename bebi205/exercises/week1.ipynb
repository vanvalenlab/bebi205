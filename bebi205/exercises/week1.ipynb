{
 "cells": [
  {
   "cell_type": "markdown",
   "metadata": {},
   "source": [
    "# Week 1 Exercises"
   ]
  },
  {
   "cell_type": "markdown",
   "metadata": {},
   "source": [
    "## 1. Data Visualization\n",
    "Working with the heart dataset introduced in {doc}`data-science-in-python`, generate a 4 panel visualization of the data. Choose visualizations that help you explore the dataset according to your interest. At minimum, your plots should fulfill the following criteria:\n",
    "\n",
    "* One plot that includes color codes the data according to the `ChestPain` category\n",
    "* One scatter plot\n",
    "* One histogram\n",
    "* All plots should have axis labels and titles\n",
    "* One plot which only includes patients where `AHD` = Yes"
   ]
  },
  {
   "cell_type": "markdown",
   "metadata": {},
   "source": [
    "## 2. Boolean Indexing\n",
    "Continuing with the heart dataset, answer the following questions about the dataset using boolean indexing when appropriate."
   ]
  },
  {
   "cell_type": "markdown",
   "metadata": {},
   "source": [
    "### a) What is the age of the oldest patient to experience typical chest pain?"
   ]
  },
  {
   "cell_type": "markdown",
   "metadata": {},
   "source": [
    "### b) How many patients under the age of 50 had `RestBP` greater than 150?"
   ]
  },
  {
   "cell_type": "markdown",
   "metadata": {},
   "source": [
    "### c) What is the average `MaxHR` for patients who had `ChestPain` of either nonanginal or nontypical and `Age` less 60?"
   ]
  },
  {
   "cell_type": "markdown",
   "metadata": {},
   "source": [
    "## 3. Numpy oriented question???"
   ]
  }
 ],
 "metadata": {
  "kernelspec": {
   "display_name": "Python [conda env:bebi205]",
   "language": "python",
   "name": "conda-env-bebi205-py"
  },
  "language_info": {
   "codemirror_mode": {
    "name": "ipython",
    "version": 3
   },
   "file_extension": ".py",
   "mimetype": "text/x-python",
   "name": "python",
   "nbconvert_exporter": "python",
   "pygments_lexer": "ipython3",
   "version": "3.7.9"
  }
 },
 "nbformat": 4,
 "nbformat_minor": 2
}
