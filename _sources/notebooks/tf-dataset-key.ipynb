{
  "nbformat": 4,
  "nbformat_minor": 0,
  "metadata": {
    "colab": {
      "name": "tf-dataset-key.ipynb",
      "provenance": [],
      "collapsed_sections": [],
      "toc_visible": true
    },
    "kernelspec": {
      "display_name": "Python [default]",
      "language": "python",
      "name": "python3"
    },
    "language_info": {
      "codemirror_mode": {
        "name": "ipython",
        "version": 3
      },
      "file_extension": ".py",
      "mimetype": "text/x-python",
      "name": "python",
      "nbconvert_exporter": "python",
      "pygments_lexer": "ipython3",
      "version": "3.7.2"
    }
  },
  "cells": [
    {
      "cell_type": "markdown",
      "metadata": {
        "id": "ri3b4fbfb0rD"
      },
      "source": [
        "# TensorFlow Data\n",
        "\n",
        "[![Open in Colab](https://img.shields.io/static/v1?logo=google-colab&message=Open%20in%20colab&color=blue&label=%20&labelColor=5c5c5c)](https://colab.research.google.com/github/vanvalenlab/bebi205/blob/master/bebi205/notebooks/tf-dataset.ipynb)\n",
        "[![Open key in Colab](https://img.shields.io/static/v1?logo=google-colab&message=Open%20key%20in%20colab&color=blue&label=%20&labelColor=5c5c5c)](https://colab.research.google.com/github/vanvalenlab/bebi205/blob/master/bebi205/notebooks/tf-dataset-key.ipynb)\n",
        "\n",
        "Some code cells will be marked with \n",
        "```\n",
        "##########################\n",
        "######## To Do ###########\n",
        "##########################\n",
        "```\n",
        "\n",
        "This indicates that you are being asked to write a piece of code to complete the notebook."
      ]
    },
    {
      "cell_type": "markdown",
      "metadata": {
        "id": "XMVW78Nxk2qy"
      },
      "source": [
        "We need to pip install `tensorflow_addons` which has useful image transformation functions that are compatible with the tensorflow backend."
      ]
    },
    {
      "cell_type": "code",
      "metadata": {
        "colab": {
          "base_uri": "https://localhost:8080/"
        },
        "id": "l4QaHq6Uk0xc",
        "outputId": "fab31b38-e7d2-4bc6-957e-5f55708d6708"
      },
      "source": [
        "!pip install tensorflow-addons"
      ],
      "execution_count": 1,
      "outputs": [
        {
          "output_type": "stream",
          "text": [
            "Collecting tensorflow-addons\n",
            "\u001b[?25l  Downloading https://files.pythonhosted.org/packages/74/e3/56d2fe76f0bb7c88ed9b2a6a557e25e83e252aec08f13de34369cd850a0b/tensorflow_addons-0.12.1-cp37-cp37m-manylinux2010_x86_64.whl (703kB)\n",
            "\r\u001b[K     |▌                               | 10kB 11.3MB/s eta 0:00:01\r\u001b[K     |█                               | 20kB 14.6MB/s eta 0:00:01\r\u001b[K     |█▍                              | 30kB 6.9MB/s eta 0:00:01\r\u001b[K     |█▉                              | 40kB 6.9MB/s eta 0:00:01\r\u001b[K     |██▎                             | 51kB 4.7MB/s eta 0:00:01\r\u001b[K     |██▉                             | 61kB 5.2MB/s eta 0:00:01\r\u001b[K     |███▎                            | 71kB 5.0MB/s eta 0:00:01\r\u001b[K     |███▊                            | 81kB 5.2MB/s eta 0:00:01\r\u001b[K     |████▏                           | 92kB 4.9MB/s eta 0:00:01\r\u001b[K     |████▋                           | 102kB 4.4MB/s eta 0:00:01\r\u001b[K     |█████▏                          | 112kB 4.4MB/s eta 0:00:01\r\u001b[K     |█████▋                          | 122kB 4.4MB/s eta 0:00:01\r\u001b[K     |██████                          | 133kB 4.4MB/s eta 0:00:01\r\u001b[K     |██████▌                         | 143kB 4.4MB/s eta 0:00:01\r\u001b[K     |███████                         | 153kB 4.4MB/s eta 0:00:01\r\u001b[K     |███████▌                        | 163kB 4.4MB/s eta 0:00:01\r\u001b[K     |████████                        | 174kB 4.4MB/s eta 0:00:01\r\u001b[K     |████████▍                       | 184kB 4.4MB/s eta 0:00:01\r\u001b[K     |████████▉                       | 194kB 4.4MB/s eta 0:00:01\r\u001b[K     |█████████▎                      | 204kB 4.4MB/s eta 0:00:01\r\u001b[K     |█████████▉                      | 215kB 4.4MB/s eta 0:00:01\r\u001b[K     |██████████▎                     | 225kB 4.4MB/s eta 0:00:01\r\u001b[K     |██████████▊                     | 235kB 4.4MB/s eta 0:00:01\r\u001b[K     |███████████▏                    | 245kB 4.4MB/s eta 0:00:01\r\u001b[K     |███████████▋                    | 256kB 4.4MB/s eta 0:00:01\r\u001b[K     |████████████▏                   | 266kB 4.4MB/s eta 0:00:01\r\u001b[K     |████████████▋                   | 276kB 4.4MB/s eta 0:00:01\r\u001b[K     |█████████████                   | 286kB 4.4MB/s eta 0:00:01\r\u001b[K     |█████████████▌                  | 296kB 4.4MB/s eta 0:00:01\r\u001b[K     |██████████████                  | 307kB 4.4MB/s eta 0:00:01\r\u001b[K     |██████████████▍                 | 317kB 4.4MB/s eta 0:00:01\r\u001b[K     |███████████████                 | 327kB 4.4MB/s eta 0:00:01\r\u001b[K     |███████████████▍                | 337kB 4.4MB/s eta 0:00:01\r\u001b[K     |███████████████▉                | 348kB 4.4MB/s eta 0:00:01\r\u001b[K     |████████████████▎               | 358kB 4.4MB/s eta 0:00:01\r\u001b[K     |████████████████▊               | 368kB 4.4MB/s eta 0:00:01\r\u001b[K     |█████████████████▎              | 378kB 4.4MB/s eta 0:00:01\r\u001b[K     |█████████████████▊              | 389kB 4.4MB/s eta 0:00:01\r\u001b[K     |██████████████████▏             | 399kB 4.4MB/s eta 0:00:01\r\u001b[K     |██████████████████▋             | 409kB 4.4MB/s eta 0:00:01\r\u001b[K     |███████████████████             | 419kB 4.4MB/s eta 0:00:01\r\u001b[K     |███████████████████▋            | 430kB 4.4MB/s eta 0:00:01\r\u001b[K     |████████████████████            | 440kB 4.4MB/s eta 0:00:01\r\u001b[K     |████████████████████▌           | 450kB 4.4MB/s eta 0:00:01\r\u001b[K     |█████████████████████           | 460kB 4.4MB/s eta 0:00:01\r\u001b[K     |█████████████████████▍          | 471kB 4.4MB/s eta 0:00:01\r\u001b[K     |██████████████████████          | 481kB 4.4MB/s eta 0:00:01\r\u001b[K     |██████████████████████▍         | 491kB 4.4MB/s eta 0:00:01\r\u001b[K     |██████████████████████▉         | 501kB 4.4MB/s eta 0:00:01\r\u001b[K     |███████████████████████▎        | 512kB 4.4MB/s eta 0:00:01\r\u001b[K     |███████████████████████▊        | 522kB 4.4MB/s eta 0:00:01\r\u001b[K     |████████████████████████▎       | 532kB 4.4MB/s eta 0:00:01\r\u001b[K     |████████████████████████▊       | 542kB 4.4MB/s eta 0:00:01\r\u001b[K     |█████████████████████████▏      | 552kB 4.4MB/s eta 0:00:01\r\u001b[K     |█████████████████████████▋      | 563kB 4.4MB/s eta 0:00:01\r\u001b[K     |██████████████████████████      | 573kB 4.4MB/s eta 0:00:01\r\u001b[K     |██████████████████████████▋     | 583kB 4.4MB/s eta 0:00:01\r\u001b[K     |███████████████████████████     | 593kB 4.4MB/s eta 0:00:01\r\u001b[K     |███████████████████████████▌    | 604kB 4.4MB/s eta 0:00:01\r\u001b[K     |████████████████████████████    | 614kB 4.4MB/s eta 0:00:01\r\u001b[K     |████████████████████████████▍   | 624kB 4.4MB/s eta 0:00:01\r\u001b[K     |████████████████████████████▉   | 634kB 4.4MB/s eta 0:00:01\r\u001b[K     |█████████████████████████████▍  | 645kB 4.4MB/s eta 0:00:01\r\u001b[K     |█████████████████████████████▉  | 655kB 4.4MB/s eta 0:00:01\r\u001b[K     |██████████████████████████████▎ | 665kB 4.4MB/s eta 0:00:01\r\u001b[K     |██████████████████████████████▊ | 675kB 4.4MB/s eta 0:00:01\r\u001b[K     |███████████████████████████████▏| 686kB 4.4MB/s eta 0:00:01\r\u001b[K     |███████████████████████████████▊| 696kB 4.4MB/s eta 0:00:01\r\u001b[K     |████████████████████████████████| 706kB 4.4MB/s \n",
            "\u001b[?25hRequirement already satisfied: typeguard>=2.7 in /usr/local/lib/python3.7/dist-packages (from tensorflow-addons) (2.7.1)\n",
            "Installing collected packages: tensorflow-addons\n",
            "Successfully installed tensorflow-addons-0.12.1\n"
          ],
          "name": "stdout"
        }
      ]
    },
    {
      "cell_type": "code",
      "metadata": {
        "id": "tg5T3iZ4cIYf"
      },
      "source": [
        "import tensorflow as tf\n",
        "import tensorflow_addons as tfa\n",
        "import numpy as np\n",
        "import matplotlib.pyplot as plt\n",
        "import pandas as pd"
      ],
      "execution_count": 2,
      "outputs": []
    },
    {
      "cell_type": "markdown",
      "metadata": {
        "id": "ietShzLmcMKH"
      },
      "source": [
        "Any machine learning model is composed of two primary components: model design and training data. While model design and architecture receive significant attention, any model is only as good as the data which it was trained on. We'll discuss how to prepare labeled training data in more detail later. Here we will focus on the most efficient way to wrangle your training data and feed it into a model. TensorFlow models expect to receive data wrapped in an iterator, such that if you call `next(data)` the output is a single data point and its corresponding label."
      ]
    },
    {
      "cell_type": "markdown",
      "metadata": {
        "id": "CR1WJIhYqboo"
      },
      "source": [
        "## Image Datasets"
      ]
    },
    {
      "cell_type": "markdown",
      "metadata": {
        "id": "6DcPvM2TcLSH"
      },
      "source": [
        "TensorFlow has introduced the `tf.data` API to serve as an end-to-end pipeline for handling data in the context of machine learning. The core of the `tf.data` API is the `tf.data.Dataset` object. We will download the MNIST dataset to use as an example of image data for this tutorial."
      ]
    },
    {
      "cell_type": "code",
      "metadata": {
        "id": "Ot1T2s_vdWEg",
        "outputId": "8b4d1845-c4bb-47a2-e154-8a7d7bde27be",
        "colab": {
          "base_uri": "https://localhost:8080/"
        }
      },
      "source": [
        "train, test = tf.keras.datasets.mnist.load_data()"
      ],
      "execution_count": 3,
      "outputs": [
        {
          "output_type": "stream",
          "text": [
            "Downloading data from https://storage.googleapis.com/tensorflow/tf-keras-datasets/mnist.npz\n",
            "11493376/11490434 [==============================] - 0s 0us/step\n"
          ],
          "name": "stdout"
        }
      ]
    },
    {
      "cell_type": "code",
      "metadata": {
        "colab": {
          "base_uri": "https://localhost:8080/"
        },
        "id": "JvWtC1_5daJu",
        "outputId": "0b80abce-5db2-4130-ca3e-8bbd8d2fd5f5"
      },
      "source": [
        "X, y = train\n",
        "X.shape, y.shape"
      ],
      "execution_count": 4,
      "outputs": [
        {
          "output_type": "execute_result",
          "data": {
            "text/plain": [
              "((60000, 28, 28), (60000,))"
            ]
          },
          "metadata": {
            "tags": []
          },
          "execution_count": 4
        }
      ]
    },
    {
      "cell_type": "code",
      "metadata": {
        "colab": {
          "base_uri": "https://localhost:8080/",
          "height": 298
        },
        "id": "zzaIEr6TdkY0",
        "outputId": "f8a7c4f3-efaf-456a-8484-f7ee6a77362c"
      },
      "source": [
        "i = np.random.randint(X.shape[0])\n",
        "fig,ax = plt.subplots()\n",
        "ax.imshow(X[i])\n",
        "ax.set_title(y[i])"
      ],
      "execution_count": 5,
      "outputs": [
        {
          "output_type": "execute_result",
          "data": {
            "text/plain": [
              "Text(0.5, 1.0, '5')"
            ]
          },
          "metadata": {
            "tags": []
          },
          "execution_count": 5
        },
        {
          "output_type": "display_data",
          "data": {
            "image/png": "[encoded data removed]",
            "text/plain": [
              "<Figure size 432x288 with 1 Axes>"
            ]
          },
          "metadata": {
            "tags": [],
            "needs_background": "light"
          }
        }
      ]
    },
    {
      "cell_type": "markdown",
      "metadata": {
        "id": "nMc7ZGsldUKe"
      },
      "source": [
        "### Extract\n",
        "This step addresses the task of reading your dataset and passing it to the Dataset object. There are six different input methods available which are detailed in the [docs](https://www.tensorflow.org/guide/data#reading_input_data). When your dataset can be fully loaded into memory, it can be converted to a tensor and passed directly to the object."
      ]
    },
    {
      "cell_type": "code",
      "metadata": {
        "colab": {
          "base_uri": "https://localhost:8080/"
        },
        "id": "uVFmLytCePqk",
        "outputId": "82995923-bcfa-4d2a-c134-6a1e42157a1d"
      },
      "source": [
        "dataset = tf.data.Dataset.from_tensor_slices((X,y))\n",
        "dataset"
      ],
      "execution_count": 6,
      "outputs": [
        {
          "output_type": "execute_result",
          "data": {
            "text/plain": [
              "<TensorSliceDataset shapes: ((28, 28), ()), types: (tf.uint8, tf.uint8)>"
            ]
          },
          "metadata": {
            "tags": []
          },
          "execution_count": 6
        }
      ]
    },
    {
      "cell_type": "code",
      "metadata": {
        "colab": {
          "base_uri": "https://localhost:8080/",
          "height": 281
        },
        "id": "OmMOovTwhW03",
        "outputId": "680840e7-8f0e-4ac6-a4b7-634b99b36cf0"
      },
      "source": [
        "for im,label in dataset.take(1):\n",
        "    fig,ax = plt.subplots()\n",
        "    ax.imshow(im)\n",
        "    ax.set_title(label.numpy())"
      ],
      "execution_count": 7,
      "outputs": [
        {
          "output_type": "display_data",
          "data": {
            "image/png": "[encoded data removed]",
            "text/plain": [
              "<Figure size 432x288 with 1 Axes>"
            ]
          },
          "metadata": {
            "tags": [],
            "needs_background": "light"
          }
        }
      ]
    },
    {
      "cell_type": "markdown",
      "metadata": {
        "id": "sF9qGBsAew57"
      },
      "source": [
        "### Transform\n",
        "At this stage we can perform any transformations to our data prior to training. This can be as simple as shuffling the dataset prior to retrieving batches or applying random rotations for data augmentation."
      ]
    },
    {
      "cell_type": "markdown",
      "metadata": {
        "id": "7kOkG0UxckrK"
      },
      "source": [
        "#### Shuffle\n",
        "\n",
        "The first step prior to passing data to a model for training is to shuffle the data such that the order in which the model receives the data is random. The function `dataset.shuffle` requires the arguement `buffer_size` which determines how many elements in the dataset are considered during random selection of each point. For perfect shuffling, `buffer_size` should be the greater than or equal to the size of the dataset. However, this carries a significant memory burden so typiclly `buffer_size` is a fraction of the dataset size. "
      ]
    },
    {
      "cell_type": "code",
      "metadata": {
        "id": "K-osawTteFSQ"
      },
      "source": [
        "dataset = dataset.shuffle(5000,seed=123,reshuffle_each_iteration=True)"
      ],
      "execution_count": 8,
      "outputs": []
    },
    {
      "cell_type": "markdown",
      "metadata": {
        "id": "bwxk-cs6elXr"
      },
      "source": [
        "#### Augment\n",
        "Finally, we augment the dataset by performing random transformations to each batch of samples. In order to to this, we revisit the transformation matrices discussed previously. When we initially discussed transformations, we used 2x2 matrices to rotate, reflect, etc a 2D image. For dataset augmentation, we also want to translate the image such that it is shifted in 2D space away from its original center point. In order to do this, we will use a 3x3 matrix and consider each point $P(x,y) = \\begin{bmatrix}x&y&1\\end{bmatrix}$.\n",
        "\n",
        "In order to translate point $P(x,y)$ by $(\\delta x, \\delta y)$, we multiply P by the translation matrix\n",
        "$$\\begin{bmatrix}x & y & 1\\end{bmatrix} \\times\n",
        "\\begin{bmatrix}\n",
        "    1 & 0 & 0\\\\\n",
        "    0 & 1 & 0\\\\\n",
        "    \\delta x & \\delta y & 1\n",
        "\\end{bmatrix}\n",
        "=\n",
        "\\begin{bmatrix}x+\\delta x & y+\\delta y & 1\\end{bmatrix}\n",
        "$$"
      ]
    },
    {
      "cell_type": "markdown",
      "metadata": {
        "id": "I00IIng_g32l"
      },
      "source": [
        "In order to apply random transformations to the dataset, we can use the `dataset.map` function which will apply any python function to each element in the dataset. First we will write a function to calculate a random transformation matrix that scales the data within the limits of a specified zoom range."
      ]
    },
    {
      "cell_type": "code",
      "metadata": {
        "colab": {
          "base_uri": "https://localhost:8080/"
        },
        "id": "pWPbLeSijHN0",
        "outputId": "debd1130-222b-46ef-dbdc-b44b320b511f"
      },
      "source": [
        "def compute_random_zoom(zoom_min, zoom_max):\n",
        "    # Get random zoom values for x and y\n",
        "    zx = np.random.uniform(low=zoom_min, high=zoom_max, size=[1])[0]\n",
        "    zy = np.random.uniform(low=zoom_min, high=zoom_max, size=[1])[0]\n",
        "\n",
        "    # Build the matrix\n",
        "    matrix = [[zx,0,0],[0,zy,0],[0,0,1]]\n",
        "    return np.array(matrix)\n",
        "\n",
        "m = compute_random_zoom(0.5, 2)\n",
        "m"
      ],
      "execution_count": 9,
      "outputs": [
        {
          "output_type": "execute_result",
          "data": {
            "text/plain": [
              "array([[0.54564786, 0.        , 0.        ],\n",
              "       [0.        , 0.97391873, 0.        ],\n",
              "       [0.        , 0.        , 1.        ]])"
            ]
          },
          "metadata": {
            "tags": []
          },
          "execution_count": 9
        }
      ]
    },
    {
      "cell_type": "markdown",
      "metadata": {
        "id": "DXznUKrHonHc"
      },
      "source": [
        "To apply the transformation to an image, we will use the tensorflow_addon function `tfa.image.transform`. This function expects the transformation matrix to be a list of length 8. The function assumes that the ninth value in the matrix (corresponding to the bottom right corner) is always 1. Additionally, the function supports various `fill_modes` which sets the value of points that fall outside of the boundaries of the input."
      ]
    },
    {
      "cell_type": "code",
      "metadata": {
        "colab": {
          "base_uri": "https://localhost:8080/"
        },
        "id": "0cZxSvyApAhA",
        "outputId": "ed2f2559-e2c1-4d92-9d99-d557842c1e4f"
      },
      "source": [
        "m = m.flatten()[0:8]\n",
        "m"
      ],
      "execution_count": 10,
      "outputs": [
        {
          "output_type": "execute_result",
          "data": {
            "text/plain": [
              "array([0.54564786, 0.        , 0.        , 0.        , 0.97391873,\n",
              "       0.        , 0.        , 0.        ])"
            ]
          },
          "metadata": {
            "tags": []
          },
          "execution_count": 10
        }
      ]
    },
    {
      "cell_type": "code",
      "metadata": {
        "colab": {
          "base_uri": "https://localhost:8080/",
          "height": 216
        },
        "id": "t58K8wWDlHXu",
        "outputId": "fedc98eb-8500-4406-bc01-ae13551cf94b"
      },
      "source": [
        "for im,label in dataset.take(1):\n",
        "    fig,ax = plt.subplots(1,2)\n",
        "    ax[0].imshow(im)\n",
        "    ax[0].set_title('Raw')\n",
        "    ax[1].set_title('Transformed')\n",
        "\n",
        "    imt = tfa.image.transform(im, m, fill_mode='constant', fill_value=0)\n",
        "    ax[1].imshow(imt)"
      ],
      "execution_count": 11,
      "outputs": [
        {
          "output_type": "display_data",
          "data": {
            "image/png": "[encoded data removed]",
            "text/plain": [
              "<Figure size 432x288 with 2 Axes>"
            ]
          },
          "metadata": {
            "tags": [],
            "needs_background": "light"
          }
        }
      ]
    },
    {
      "cell_type": "markdown",
      "metadata": {
        "id": "gKNoYK55rDeL"
      },
      "source": [
        "We are now ready to write an augmentation function that can be fed into `dataset.map`. The inputs for our new function should match the output of `dataset.take(1)` which in this case is a tuple with an X and y value."
      ]
    },
    {
      "cell_type": "code",
      "metadata": {
        "colab": {
          "base_uri": "https://localhost:8080/",
          "height": 809
        },
        "id": "JdoX9M-frafi",
        "outputId": "daa9ebbb-fae8-47e1-a723-99f200771ea7"
      },
      "source": [
        "def augment(*args):\n",
        "    im = args[0]\n",
        "    label = args[1]\n",
        "\n",
        "    m = compute_random_zoom(0.5,2)\n",
        "    m = m.flatten()[0:8]\n",
        "\n",
        "    imt = tfa.image.transform(im, m, fill_mode='constant', fill_value=0)\n",
        "\n",
        "    return imt,label\n",
        "\n",
        "aug_dataset = dataset.map(augment)\n",
        "\n",
        "for im,label in aug_dataset.take(3):\n",
        "    fig,ax = plt.subplots()\n",
        "    ax.imshow(im)\n",
        "    ax.set_title(label.numpy())"
      ],
      "execution_count": 12,
      "outputs": [
        {
          "output_type": "display_data",
          "data": {
            "image/png": "[encoded data removed]",
            "text/plain": [
              "<Figure size 432x288 with 1 Axes>"
            ]
          },
          "metadata": {
            "tags": [],
            "needs_background": "light"
          }
        },
        {
          "output_type": "display_data",
          "data": {
            "image/png": "[encoded data removed]",
            "text/plain": [
              "<Figure size 432x288 with 1 Axes>"
            ]
          },
          "metadata": {
            "tags": [],
            "needs_background": "light"
          }
        },
        {
          "output_type": "display_data",
          "data": {
            "image/png": "[encoded data removed]",
            "text/plain": [
              "<Figure size 432x288 with 1 Axes>"
            ]
          },
          "metadata": {
            "tags": [],
            "needs_background": "light"
          }
        }
      ]
    },
    {
      "cell_type": "markdown",
      "metadata": {
        "id": "GZvqcO34eM4l"
      },
      "source": [
        "Next, the dataset is broken into batches for model training. The batch size determines how many datapoints are fed through a model before the model is updated. \n",
        "\n",
        "```python\n",
        "dataset = dataset.batch(20)\n",
        "```\n",
        "\n",
        "In this examples we have applied each transformation to the dataset sequentially, but practically it's most convenient to apply them in a single line as shown below.\n",
        "\n",
        "```python\n",
        "dataset.shuffle(5000,seed=123,reshuffle_each_iteration=True).map(augment).batch(20)\n",
        "```"
      ]
    },
    {
      "cell_type": "markdown",
      "metadata": {
        "id": "pp1-Z6XQHq7O"
      },
      "source": [
        "## Exercise - Image Augmentation\n",
        "Try expanding the `augment` function to include at least one additional transformation such as rotation. Remember that you use the dot product of two matrices to combine two transformations into one."
      ]
    },
    {
      "cell_type": "code",
      "metadata": {
        "id": "z5Isx4b9E3gc",
        "tags": [
          "hide-output"
        ]
      },
      "source": [
        "##########################\n",
        "######## To Do ###########\n",
        "##########################\n",
        "\n",
        "def augment(*args):\n",
        "    im = args[0]\n",
        "    label = args[1]\n",
        "\n",
        "    # Add your transformations here\n",
        "\n",
        "    return imt,label"
      ],
      "execution_count": 13,
      "outputs": []
    },
    {
      "cell_type": "code",
      "metadata": {
        "colab": {
          "base_uri": "https://localhost:8080/",
          "height": 809
        },
        "id": "-8b2Rjl-VIUE",
        "tags": [
          "hide-cell"
        ],
        "outputId": "667f8550-d1d5-4714-a770-489804b168ba"
      },
      "source": [
        "def compute_random_rot(rotrange):\n",
        "    theta = np.random.uniform(low=rotrange[0], high=rotrange[1], size=[1])[0]\n",
        "\n",
        "    # Build matrix\n",
        "    m = np.array([[np.cos(theta),-np.sin(theta),0],\n",
        "                  [np.sin(theta),np.cos(theta),0],\n",
        "                  [0,0,1]])\n",
        "    \n",
        "    return m\n",
        "\n",
        "def augment(*args):\n",
        "    im = args[0]\n",
        "    label = args[1]\n",
        "\n",
        "    mz = compute_random_zoom(0.5,2)\n",
        "    mr = compute_random_rot([-np.pi,np.pi])\n",
        "\n",
        "    M = np.dot(mz,mr)\n",
        "    M = m.flatten()[0:8]\n",
        "\n",
        "    imt = tfa.image.transform(im, m, fill_mode='constant', fill_value=0)\n",
        "\n",
        "    return imt,label\n",
        "\n",
        "aug_dataset = dataset.map(augment)\n",
        "\n",
        "for im,label in aug_dataset.take(3):\n",
        "    fig,ax = plt.subplots()\n",
        "    ax.imshow(im)\n",
        "    ax.set_title(label.numpy())"
      ],
      "execution_count": 14,
      "outputs": [
        {
          "output_type": "display_data",
          "data": {
            "image/png": "[encoded data removed]",
            "text/plain": [
              "<Figure size 432x288 with 1 Axes>"
            ]
          },
          "metadata": {
            "tags": [],
            "needs_background": "light"
          }
        },
        {
          "output_type": "display_data",
          "data": {
            "image/png": "[encoded data removed]",
            "text/plain": [
              "<Figure size 432x288 with 1 Axes>"
            ]
          },
          "metadata": {
            "tags": [],
            "needs_background": "light"
          }
        },
        {
          "output_type": "display_data",
          "data": {
            "image/png": "[encoded data removed]",
            "text/plain": [
              "<Figure size 432x288 with 1 Axes>"
            ]
          },
          "metadata": {
            "tags": [],
            "needs_background": "light"
          }
        }
      ]
    },
    {
      "cell_type": "markdown",
      "metadata": {
        "id": "xYyjtLe2qoNw"
      },
      "source": [
        "## Sequence Datasets\n",
        "\n",
        "We can also use `tf.data` to prepare sequencing data for training. We will use a dataset published as part of the DREAM5 challenge and included as part of the supplement in Alphani et al. 2015.\n",
        "\n",
        "Alipanahi, B., Delong, A., Weirauch, M.T., and Frey, B.J. (2015). Predicting the sequence specificities of DNA- and RNA-binding proteins by deep learning. Nature Biotechnology 33, 831–838.\n",
        "\n",
        "For more information on the 2013 DREAM5 Motif Recognition Challenge protocols and evaluation,\n",
        "please refer to Weirauch et al., 2013 (Nature Biotechnology, doi:10.1038/nbt.2486)"
      ]
    },
    {
      "cell_type": "markdown",
      "metadata": {
        "id": "ffsypWlIwbVF"
      },
      "source": [
        "We'll start by loading ChipSeq data for a single transcription factor."
      ]
    },
    {
      "cell_type": "code",
      "metadata": {
        "colab": {
          "base_uri": "https://localhost:8080/",
          "height": 419
        },
        "id": "5i3Sid_7x8Ll",
        "outputId": "7b9ec60f-23c8-46da-ece6-bd01aa647fd3"
      },
      "source": [
        "csfile = 'https://storage.googleapis.com/datasets-spring2021/dream5/chipseq/TF_23_CHIP_100_full_genomic.seq'\n",
        "df = pd.read_csv(csfile,delimiter='\\t',header=None)\n",
        "df"
      ],
      "execution_count": 15,
      "outputs": [
        {
          "output_type": "execute_result",
          "data": {
            "text/html": [
              "<div>\n",
              "<style scoped>\n",
              "    .dataframe tbody tr th:only-of-type {\n",
              "        vertical-align: middle;\n",
              "    }\n",
              "\n",
              "    .dataframe tbody tr th {\n",
              "        vertical-align: top;\n",
              "    }\n",
              "\n",
              "    .dataframe thead th {\n",
              "        text-align: right;\n",
              "    }\n",
              "</style>\n",
              "<table border=\"1\" class=\"dataframe\">\n",
              "  <thead>\n",
              "    <tr style=\"text-align: right;\">\n",
              "      <th></th>\n",
              "      <th>0</th>\n",
              "      <th>1</th>\n",
              "    </tr>\n",
              "  </thead>\n",
              "  <tbody>\n",
              "    <tr>\n",
              "      <th>0</th>\n",
              "      <td>TGTGCTGAGTGACAGACTCATCAAGGCATGGCACTTCACACCTCTT...</td>\n",
              "      <td>1</td>\n",
              "    </tr>\n",
              "    <tr>\n",
              "      <th>1</th>\n",
              "      <td>TTGGCAAGCCTTTGCACTGGCAGTCAAGAACTCAGGAGTGAGAGGG...</td>\n",
              "      <td>1</td>\n",
              "    </tr>\n",
              "    <tr>\n",
              "      <th>2</th>\n",
              "      <td>TTCTGGAGGTGTTAAATGGGAAGGTGGCAGGGCCCTGCACACACAC...</td>\n",
              "      <td>1</td>\n",
              "    </tr>\n",
              "    <tr>\n",
              "      <th>3</th>\n",
              "      <td>CCCACCAGCAGACAGAGGGACAGCCTTCACAGATGATCCTGTATTT...</td>\n",
              "      <td>1</td>\n",
              "    </tr>\n",
              "    <tr>\n",
              "      <th>4</th>\n",
              "      <td>CCAGTTTCTGACAGCCTTGTCACACTAGGTGTTAAGTGAAAAACAT...</td>\n",
              "      <td>1</td>\n",
              "    </tr>\n",
              "    <tr>\n",
              "      <th>...</th>\n",
              "      <td>...</td>\n",
              "      <td>...</td>\n",
              "    </tr>\n",
              "    <tr>\n",
              "      <th>995</th>\n",
              "      <td>AAAGGACAGGGACCTAGATAAAAAGATTACAGGGAACACTAGAACT...</td>\n",
              "      <td>0</td>\n",
              "    </tr>\n",
              "    <tr>\n",
              "      <th>996</th>\n",
              "      <td>TTTAAAGAAATATCCAAATACTTTTCATTATGAAATAGAATTTGAT...</td>\n",
              "      <td>0</td>\n",
              "    </tr>\n",
              "    <tr>\n",
              "      <th>997</th>\n",
              "      <td>TCCCCCTTCCCATTCTGTTCATCATGGTAATAGCTGGCCCTGTGTA...</td>\n",
              "      <td>0</td>\n",
              "    </tr>\n",
              "    <tr>\n",
              "      <th>998</th>\n",
              "      <td>ATGATCTGAATCAAGATTTACCCAATTTCAATTGAATTCTTTTCTA...</td>\n",
              "      <td>0</td>\n",
              "    </tr>\n",
              "    <tr>\n",
              "      <th>999</th>\n",
              "      <td>TCAGGGAAAAGAGACTATCCCTATTTTATTTACAGAAGCAAAGAAC...</td>\n",
              "      <td>0</td>\n",
              "    </tr>\n",
              "  </tbody>\n",
              "</table>\n",
              "<p>1000 rows × 2 columns</p>\n",
              "</div>"
            ],
            "text/plain": [
              "                                                     0  1\n",
              "0    TGTGCTGAGTGACAGACTCATCAAGGCATGGCACTTCACACCTCTT...  1\n",
              "1    TTGGCAAGCCTTTGCACTGGCAGTCAAGAACTCAGGAGTGAGAGGG...  1\n",
              "2    TTCTGGAGGTGTTAAATGGGAAGGTGGCAGGGCCCTGCACACACAC...  1\n",
              "3    CCCACCAGCAGACAGAGGGACAGCCTTCACAGATGATCCTGTATTT...  1\n",
              "4    CCAGTTTCTGACAGCCTTGTCACACTAGGTGTTAAGTGAAAAACAT...  1\n",
              "..                                                 ... ..\n",
              "995  AAAGGACAGGGACCTAGATAAAAAGATTACAGGGAACACTAGAACT...  0\n",
              "996  TTTAAAGAAATATCCAAATACTTTTCATTATGAAATAGAATTTGAT...  0\n",
              "997  TCCCCCTTCCCATTCTGTTCATCATGGTAATAGCTGGCCCTGTGTA...  0\n",
              "998  ATGATCTGAATCAAGATTTACCCAATTTCAATTGAATTCTTTTCTA...  0\n",
              "999  TCAGGGAAAAGAGACTATCCCTATTTTATTTACAGAAGCAAAGAAC...  0\n",
              "\n",
              "[1000 rows x 2 columns]"
            ]
          },
          "metadata": {
            "tags": []
          },
          "execution_count": 15
        }
      ]
    },
    {
      "cell_type": "markdown",
      "metadata": {
        "id": "25-ZJJJFyGMm"
      },
      "source": [
        "We need to check the length of each sequence to see if they are consistent or if we will need to pad/truncate to achieve a consistent length."
      ]
    },
    {
      "cell_type": "code",
      "metadata": {
        "colab": {
          "base_uri": "https://localhost:8080/"
        },
        "id": "FB3s7tKwCU7g",
        "outputId": "79d13212-ef63-4dfa-beed-2d66052e84d4"
      },
      "source": [
        "df[0].str.len().unique()"
      ],
      "execution_count": 16,
      "outputs": [
        {
          "output_type": "execute_result",
          "data": {
            "text/plain": [
              "array([101])"
            ]
          },
          "metadata": {
            "tags": []
          },
          "execution_count": 16
        }
      ]
    },
    {
      "cell_type": "markdown",
      "metadata": {
        "id": "7o2uUXD9DvTc"
      },
      "source": [
        "### One Hot DNA\n",
        "Since are sequences are all the same length (101 bases), we can continue and look at applying one hot encoding to our data. `scikit-learn` has a useful preprocessing function `OneHotEncoder` that we can use, but we will need to provide our data in an array instead of a pandas dataframe."
      ]
    },
    {
      "cell_type": "code",
      "metadata": {
        "id": "AzqKUHPEEm9C",
        "tags": [
          "hide-output"
        ]
      },
      "source": [
        "##########################\n",
        "######## To Do ###########\n",
        "##########################\n",
        "\n",
        "# Write a function that takes in a dataframe of sequences and labels \n",
        "# And returns two arrays, X and y\n",
        "# X.shape = (number of samples, length of sequence)\n",
        "# Y.shape = (number of samples, 1)\n",
        "\n",
        "def seq_to_array(df):\n",
        "\n",
        "    # Add your code here\n",
        "\n",
        "    return X,y"
      ],
      "execution_count": 17,
      "outputs": []
    },
    {
      "cell_type": "code",
      "metadata": {
        "id": "MiRo4CGHFqiz",
        "tags": [
          "hide-cell"
        ]
      },
      "source": [
        "def seq_to_array(df):\n",
        "\n",
        "    # Grab label values and reshape to add last axis\n",
        "    y = df[1].values.reshape(-1,1)\n",
        "\n",
        "    # Expand str into a list of individual characters in str\n",
        "    X = df[0].str.split('').values\n",
        "\n",
        "    # Current structure of an array of lists, recast as array\n",
        "    X = np.array(list(X))\n",
        "\n",
        "    # Drop empty str from first and last column\n",
        "    X = X[:,1:-1]\n",
        "\n",
        "    return X,y"
      ],
      "execution_count": 18,
      "outputs": []
    },
    {
      "cell_type": "code",
      "metadata": {
        "colab": {
          "base_uri": "https://localhost:8080/"
        },
        "id": "bQXYg0III2P7",
        "outputId": "f06b6008-3dda-4222-a89c-5282f17d3150"
      },
      "source": [
        "Xraw,yraw = seq_to_array(df)\n",
        "print(Xraw.shape)\n",
        "print(Xraw[0])\n",
        "print(yraw.shape)\n",
        "print(yraw[0])"
      ],
      "execution_count": 19,
      "outputs": [
        {
          "output_type": "stream",
          "text": [
            "(1000, 101)\n",
            "['T' 'G' 'T' 'G' 'C' 'T' 'G' 'A' 'G' 'T' 'G' 'A' 'C' 'A' 'G' 'A' 'C' 'T'\n",
            " 'C' 'A' 'T' 'C' 'A' 'A' 'G' 'G' 'C' 'A' 'T' 'G' 'G' 'C' 'A' 'C' 'T' 'T'\n",
            " 'C' 'A' 'C' 'A' 'C' 'C' 'T' 'C' 'T' 'T' 'A' 'C' 'A' 'G' 'A' 'G' 'C' 'A'\n",
            " 'A' 'A' 'G' 'C' 'C' 'T' 'C' 'G' 'A' 'A' 'A' 'T' 'C' 'A' 'C' 'C' 'C' 'G'\n",
            " 'G' 'C' 'A' 'A' 'A' 'A' 'T' 'C' 'T' 'C' 'C' 'C' 'T' 'A' 'G' 'T' 'C' 'C'\n",
            " 'T' 'G' 'C' 'C' 'T' 'C' 'T' 'T' 'G' 'G' 'G']\n",
            "(1000, 1)\n",
            "[1]\n"
          ],
          "name": "stdout"
        }
      ]
    },
    {
      "cell_type": "code",
      "metadata": {
        "id": "Qs2SKyEWCehX"
      },
      "source": [
        "from sklearn.preprocessing import OneHotEncoder\n",
        "\n",
        "onehotDNA = OneHotEncoder()"
      ],
      "execution_count": 20,
      "outputs": []
    },
    {
      "cell_type": "markdown",
      "metadata": {
        "id": "kTbHri_BMcC7"
      },
      "source": [
        "The encoder expects that each column in the dataset is a unique feature set. Since we are dealing with one feature set (ATGC), we need to reshape our data to comply.\n",
        "\n"
      ]
    },
    {
      "cell_type": "code",
      "metadata": {
        "colab": {
          "base_uri": "https://localhost:8080/"
        },
        "id": "veaVDSWRLC8G",
        "outputId": "7a75662c-97d5-4eb7-8436-9b3af3d094eb"
      },
      "source": [
        "Xpre = Xraw.reshape(-1,1)\n",
        "Xpre.shape"
      ],
      "execution_count": 21,
      "outputs": [
        {
          "output_type": "execute_result",
          "data": {
            "text/plain": [
              "(101000, 1)"
            ]
          },
          "metadata": {
            "tags": []
          },
          "execution_count": 21
        }
      ]
    },
    {
      "cell_type": "code",
      "metadata": {
        "colab": {
          "base_uri": "https://localhost:8080/"
        },
        "id": "PTiYaZ8pJE6B",
        "outputId": "6670168c-8a83-4a8b-c6da-42d0b04b5682"
      },
      "source": [
        "onehotDNA.fit(Xpre)\n",
        "onehotDNA.categories_"
      ],
      "execution_count": 22,
      "outputs": [
        {
          "output_type": "execute_result",
          "data": {
            "text/plain": [
              "[array(['A', 'C', 'G', 'T'], dtype='<U1')]"
            ]
          },
          "metadata": {
            "tags": []
          },
          "execution_count": 22
        }
      ]
    },
    {
      "cell_type": "code",
      "metadata": {
        "colab": {
          "base_uri": "https://localhost:8080/"
        },
        "id": "EzpT9PccN2Eu",
        "outputId": "f36a32ff-e711-4081-d387-8f5cf868cdb3"
      },
      "source": [
        "Xpost = onehotDNA.transform(Xpre).toarray()\n",
        "print(Xpost.shape)\n",
        "Xpost"
      ],
      "execution_count": 23,
      "outputs": [
        {
          "output_type": "stream",
          "text": [
            "(101000, 4)\n"
          ],
          "name": "stdout"
        },
        {
          "output_type": "execute_result",
          "data": {
            "text/plain": [
              "array([[0., 0., 0., 1.],\n",
              "       [0., 0., 1., 0.],\n",
              "       [0., 0., 0., 1.],\n",
              "       ...,\n",
              "       [0., 0., 1., 0.],\n",
              "       [1., 0., 0., 0.],\n",
              "       [1., 0., 0., 0.]])"
            ]
          },
          "metadata": {
            "tags": []
          },
          "execution_count": 23
        }
      ]
    },
    {
      "cell_type": "code",
      "metadata": {
        "id": "ueTcpmIxRG_-"
      },
      "source": [
        "out = onehotDNA.fit_transform(Xpre).toarray()"
      ],
      "execution_count": 24,
      "outputs": []
    },
    {
      "cell_type": "markdown",
      "metadata": {
        "id": "kxrBaIAqPDlQ"
      },
      "source": [
        "Now each character is one-hot encoded, but we need to reshape the array to restore the proper shape (number of samples, len of sequence, 4)."
      ]
    },
    {
      "cell_type": "code",
      "metadata": {
        "colab": {
          "base_uri": "https://localhost:8080/"
        },
        "id": "pz9lW4TzPQQ_",
        "outputId": "4f188b80-40fd-4912-a878-d872349665ca"
      },
      "source": [
        "X = Xpost.reshape(Xraw.shape[0],Xraw.shape[1],4)\n",
        "X.shape"
      ],
      "execution_count": 25,
      "outputs": [
        {
          "output_type": "execute_result",
          "data": {
            "text/plain": [
              "(1000, 101, 4)"
            ]
          },
          "metadata": {
            "tags": []
          },
          "execution_count": 25
        }
      ]
    },
    {
      "cell_type": "markdown",
      "metadata": {
        "id": "a2t-cKYzRiuW"
      },
      "source": [
        "Finally, we can compile all of the steps needed to get from the `.seq` file to the final form of the data into a single preprocessing function that returns a tensorflow dataset object."
      ]
    },
    {
      "cell_type": "code",
      "metadata": {
        "id": "VIABwJMcTI48"
      },
      "source": [
        "def load_seq(fpath):\n",
        "    df = pd.read_csv(csfile,delimiter='\\t',header=None)\n",
        "    Xraw,yraw = seq_to_array(df)\n",
        "    \n",
        "    onehotDNA = OneHotEncoder()\n",
        "\n",
        "    # We can fit and transform in a single step now\n",
        "    X = onehotDNA.fit_transform(Xraw.reshape(-1,1)).toarray()\n",
        "    # Reshape to pull out individual samples\n",
        "    X = X.reshape(Xraw.shape[0],Xraw.shape[1],4)\n",
        "\n",
        "    dataset = tf.data.Dataset.from_tensor_slices((X,yraw))\n",
        "\n",
        "    return dataset"
      ],
      "execution_count": 26,
      "outputs": []
    },
    {
      "cell_type": "code",
      "metadata": {
        "id": "5Fs80Oh0TsMI"
      },
      "source": [
        "dataset = load_seq(csfile)"
      ],
      "execution_count": 27,
      "outputs": []
    },
    {
      "cell_type": "code",
      "metadata": {
        "colab": {
          "base_uri": "https://localhost:8080/"
        },
        "id": "hHDkZU3HUX_-",
        "outputId": "77709940-6634-4e46-b032-1b55ff862ed2"
      },
      "source": [
        "for seq,label in dataset.take(1):\n",
        "    print(label,'\\t',seq)"
      ],
      "execution_count": 28,
      "outputs": [
        {
          "output_type": "stream",
          "text": [
            "tf.Tensor([1], shape=(1,), dtype=int64) \t tf.Tensor(\n",
            "[[0. 0. 0. 1.]\n",
            " [0. 0. 1. 0.]\n",
            " [0. 0. 0. 1.]\n",
            " [0. 0. 1. 0.]\n",
            " [0. 1. 0. 0.]\n",
            " [0. 0. 0. 1.]\n",
            " [0. 0. 1. 0.]\n",
            " [1. 0. 0. 0.]\n",
            " [0. 0. 1. 0.]\n",
            " [0. 0. 0. 1.]\n",
            " [0. 0. 1. 0.]\n",
            " [1. 0. 0. 0.]\n",
            " [0. 1. 0. 0.]\n",
            " [1. 0. 0. 0.]\n",
            " [0. 0. 1. 0.]\n",
            " [1. 0. 0. 0.]\n",
            " [0. 1. 0. 0.]\n",
            " [0. 0. 0. 1.]\n",
            " [0. 1. 0. 0.]\n",
            " [1. 0. 0. 0.]\n",
            " [0. 0. 0. 1.]\n",
            " [0. 1. 0. 0.]\n",
            " [1. 0. 0. 0.]\n",
            " [1. 0. 0. 0.]\n",
            " [0. 0. 1. 0.]\n",
            " [0. 0. 1. 0.]\n",
            " [0. 1. 0. 0.]\n",
            " [1. 0. 0. 0.]\n",
            " [0. 0. 0. 1.]\n",
            " [0. 0. 1. 0.]\n",
            " [0. 0. 1. 0.]\n",
            " [0. 1. 0. 0.]\n",
            " [1. 0. 0. 0.]\n",
            " [0. 1. 0. 0.]\n",
            " [0. 0. 0. 1.]\n",
            " [0. 0. 0. 1.]\n",
            " [0. 1. 0. 0.]\n",
            " [1. 0. 0. 0.]\n",
            " [0. 1. 0. 0.]\n",
            " [1. 0. 0. 0.]\n",
            " [0. 1. 0. 0.]\n",
            " [0. 1. 0. 0.]\n",
            " [0. 0. 0. 1.]\n",
            " [0. 1. 0. 0.]\n",
            " [0. 0. 0. 1.]\n",
            " [0. 0. 0. 1.]\n",
            " [1. 0. 0. 0.]\n",
            " [0. 1. 0. 0.]\n",
            " [1. 0. 0. 0.]\n",
            " [0. 0. 1. 0.]\n",
            " [1. 0. 0. 0.]\n",
            " [0. 0. 1. 0.]\n",
            " [0. 1. 0. 0.]\n",
            " [1. 0. 0. 0.]\n",
            " [1. 0. 0. 0.]\n",
            " [1. 0. 0. 0.]\n",
            " [0. 0. 1. 0.]\n",
            " [0. 1. 0. 0.]\n",
            " [0. 1. 0. 0.]\n",
            " [0. 0. 0. 1.]\n",
            " [0. 1. 0. 0.]\n",
            " [0. 0. 1. 0.]\n",
            " [1. 0. 0. 0.]\n",
            " [1. 0. 0. 0.]\n",
            " [1. 0. 0. 0.]\n",
            " [0. 0. 0. 1.]\n",
            " [0. 1. 0. 0.]\n",
            " [1. 0. 0. 0.]\n",
            " [0. 1. 0. 0.]\n",
            " [0. 1. 0. 0.]\n",
            " [0. 1. 0. 0.]\n",
            " [0. 0. 1. 0.]\n",
            " [0. 0. 1. 0.]\n",
            " [0. 1. 0. 0.]\n",
            " [1. 0. 0. 0.]\n",
            " [1. 0. 0. 0.]\n",
            " [1. 0. 0. 0.]\n",
            " [1. 0. 0. 0.]\n",
            " [0. 0. 0. 1.]\n",
            " [0. 1. 0. 0.]\n",
            " [0. 0. 0. 1.]\n",
            " [0. 1. 0. 0.]\n",
            " [0. 1. 0. 0.]\n",
            " [0. 1. 0. 0.]\n",
            " [0. 0. 0. 1.]\n",
            " [1. 0. 0. 0.]\n",
            " [0. 0. 1. 0.]\n",
            " [0. 0. 0. 1.]\n",
            " [0. 1. 0. 0.]\n",
            " [0. 1. 0. 0.]\n",
            " [0. 0. 0. 1.]\n",
            " [0. 0. 1. 0.]\n",
            " [0. 1. 0. 0.]\n",
            " [0. 1. 0. 0.]\n",
            " [0. 0. 0. 1.]\n",
            " [0. 1. 0. 0.]\n",
            " [0. 0. 0. 1.]\n",
            " [0. 0. 0. 1.]\n",
            " [0. 0. 1. 0.]\n",
            " [0. 0. 1. 0.]\n",
            " [0. 0. 1. 0.]], shape=(101, 4), dtype=float64)\n"
          ],
          "name": "stdout"
        }
      ]
    },
    {
      "cell_type": "markdown",
      "metadata": {
        "id": "oL-cqY-TUgn7"
      },
      "source": [
        "We are now ready to shuffle and batch the dataset for training. In a future notebook, we'll spend more time thinking about appropriate augmentation strategies for sequence data."
      ]
    }
  ]
}